{
 "cells": [
  {
   "cell_type": "code",
   "execution_count": 41,
   "metadata": {
    "deletable": false,
    "editable": false
   },
   "outputs": [
    {
     "name": "stdout",
     "output_type": "stream",
     "text": [
      "=====================================================================\n",
      "Assignment: Project 1: World Progress\n",
      "OK, version v1.12.5\n",
      "=====================================================================\n",
      "\n"
     ]
    }
   ],
   "source": [
    "# Initialize OK\n",
    "from client.api.notebook import Notebook\n",
    "ok = Notebook('project1.ok')"
   ]
  },
  {
   "cell_type": "markdown",
   "metadata": {},
   "source": [
    "## Project 1: World Progress"
   ]
  },
  {
   "cell_type": "markdown",
   "metadata": {},
   "source": [
    "In this project, you'll explore data from [Gapminder.org](http://gapminder.org), a website dedicated to providing a fact-based view of the world and how it has changed. That site includes several data visualizations and presentations, but also publishes the raw data that we will use in this project to recreate and extend some of their most famous visualizations.\n",
    "\n",
    "The Gapminder website collects data from many sources and compiles them into tables that describe many countries around the world. All of the data they aggregate are published in the [Systema Globalis](https://github.com/open-numbers/ddf--gapminder--systema_globalis/blob/master/README.md). Their goal is \"to compile all public statistics; Social, Economic and Environmental; into a comparable total dataset.\" All data sets in this project are copied directly from the Systema Globalis without any changes.\n",
    "\n",
    "This project is dedicated to [Hans Rosling](https://en.wikipedia.org/wiki/Hans_Rosling) (1948-2017), who championed the use of data to understand and prioritize global development challenges."
   ]
  },
  {
   "cell_type": "markdown",
   "metadata": {},
   "source": [
    "### Logistics\n",
    "\n",
    "**Deadline.** This project is due at 11:59pm on Friday 2/28. Projects will be accepted up to 2 days (48 hours) late; a project submitted less than 24 hours after the deadline will receive 2/3 credit, a project submitted between 24 and 48 hours after the deadline will receive 1/3 credit, and a project submitted 48 hours or more after the deadline will receive no credit. It's **much** better to be early than late, so start working now.\n",
    "\n",
    "**Checkpoint.** For full credit, you must also complete the first 8 questions, pass all public autograder tests, and submit to okpy by 11:59pm on Friday 2/21. After you've submitted the checkpoint, you may still change your answers before the project deadline - only your final submission will be graded for correctness. You will have some lab time to work on these questions, but we recommend that you start the project before lab and leave time to finish the checkpoint afterward.\n",
    "\n",
    "**Partners.** You may work with one other partner; your partner must be from your assigned lab section. Only one of you is required to submit the project. On [okpy.org](http://okpy.org), the person who submits should also designate their partner so that both of you receive credit.\n",
    "\n",
    "**Rules.** Don't share your code with anybody but your partner. You are welcome to discuss questions with other students, but don't share the answers. The experience of solving the problems in this project will prepare you for exams (and life). If someone asks you for the answer, resist! Instead, you can demonstrate how you would solve a similar problem.\n",
    "\n",
    "**Support.** You are not alone! Come to office hours, post on Piazza, and talk to your classmates. If you want to ask about the details of your solution to a problem, make a private Piazza post and the staff will respond. If you're ever feeling overwhelmed or don't know how to make progress, email your TA or tutor for help. You can find contact information for the staff on the [course website](http://data8.org/sp20/staff.html).\n",
    "\n",
    "**Tests.** The tests that are given are **not comprehensive** and passing the tests for a question **does not** mean that you answered the question correctly. Tests usually only check that your table has the correct column labels. However, more tests will be applied to verify the correctness of your submission in order to assign your final score, so be careful and check your work! You might want to create your own checks along the way to see if your answers make sense. Additionally, before you submit, make sure that none of your cells take a very long time to run (several minutes).\n",
    "\n",
    "**Free Response Questions:** Make sure that you put the answers to the written questions in the indicated cell we provide. Check to make sure that you have a [Gradescope](http://gradescope.com) account, which is where the scores to the free response questions will be posted. If you do not, make sure to reach out to your assigned (u)GSI.\n",
    "\n",
    "**Advice.** Develop your answers incrementally. To perform a complicated table manipulation, break it up into steps, perform each step on a different line, give a new name to each result, and check that each intermediate result is what you expect. You can add any additional names or functions you want to the provided cells. Make sure that you are using distinct and meaningful variable names throughout the notebook. Along that line, **DO NOT** reuse the variable names that we use when we grade your answers. For example, in Question 1 of the Global Poverty section, we ask you to assign an answer to `latest`. Do not reassign the variable name `latest` to anything else in your notebook, otherwise there is the chance that our tests grade against what `latest` was reassigned to.\n",
    "\n",
    "You **never** have to use just one line in this project or any others. Use intermediate variables and multiple lines as much as you would like!  \n",
    "\n",
    "To get started, load `datascience`, `numpy`, `plots`, and `ok`."
   ]
  },
  {
   "cell_type": "code",
   "execution_count": 42,
   "metadata": {},
   "outputs": [
    {
     "name": "stdout",
     "output_type": "stream",
     "text": [
      "=====================================================================\n",
      "Assignment: Project 1: World Progress\n",
      "OK, version v1.12.5\n",
      "=====================================================================\n",
      "\n"
     ]
    }
   ],
   "source": [
    "from datascience import *\n",
    "import numpy as np\n",
    "\n",
    "%matplotlib inline\n",
    "import matplotlib.pyplot as plots\n",
    "plots.style.use('fivethirtyeight')\n",
    "\n",
    "from client.api.notebook import Notebook\n",
    "ok = Notebook('project1.ok')"
   ]
  },
  {
   "cell_type": "markdown",
   "metadata": {},
   "source": [
    "Before continuing the assignment, select \"Save and Checkpoint\" in the File menu and then execute the submit cell below. The result will contain a link that you can use to check that your assignment has been submitted successfully. If you submit more than once before the deadline, we will only grade your final submission. If you mistakenly submit the wrong one, you can head to okpy.org and flag the correct version. There will be another submit cell at the end of the assignment when you finish!"
   ]
  },
  {
   "cell_type": "code",
   "execution_count": 43,
   "metadata": {},
   "outputs": [
    {
     "data": {
      "application/javascript": [
       "IPython.notebook.save_checkpoint();"
      ],
      "text/plain": [
       "<IPython.core.display.Javascript object>"
      ]
     },
     "metadata": {},
     "output_type": "display_data"
    },
    {
     "data": {
      "application/javascript": [
       "IPython.notebook.save_notebook();"
      ],
      "text/plain": [
       "<IPython.core.display.Javascript object>"
      ]
     },
     "metadata": {},
     "output_type": "display_data"
    },
    {
     "name": "stdout",
     "output_type": "stream",
     "text": [
      "Saving notebook... Saved 'project1.ipynb'.\n",
      "Submit... 100% complete\n",
      "Submission successful for user: whtwht3061@berkeley.edu\n",
      "URL: https://okpy.org/cal/data8/sp20/project1/submissions/vQPDn5\n",
      "\n"
     ]
    }
   ],
   "source": [
    "_ = ok.submit()"
   ]
  },
  {
   "cell_type": "markdown",
   "metadata": {
    "deletable": false,
    "editable": false
   },
   "source": [
    "## 1. Global Population Growth\n"
   ]
  },
  {
   "cell_type": "markdown",
   "metadata": {
    "deletable": false,
    "editable": false
   },
   "source": [
    "The global population of humans reached 1 billion around 1800, 3 billion around 1960, and 7 billion around 2011. The potential impact of exponential population growth has concerned scientists, economists, and politicians alike.\n",
    "\n",
    "The UN Population Division estimates that the world population will likely continue to grow throughout the 21st century, but at a slower rate, perhaps reaching 11 billion by 2100. However, the UN does not rule out scenarios of more extreme growth.\n",
    "\n",
    "<a href=\"http://www.pewresearch.org/fact-tank/2015/06/08/scientists-more-worried-than-public-about-worlds-growing-population/ft_15-06-04_popcount/\"> \n",
    " <img src=\"pew_population_projection.png\"/> \n",
    "</a>\n",
    "\n",
    "In this section, we will examine some of the factors that influence population growth and how they are changing around the world.\n",
    "\n",
    "The first table we will consider is the total population of each country over time. Run the cell below."
   ]
  },
  {
   "cell_type": "code",
   "execution_count": 44,
   "metadata": {
    "deletable": false,
    "editable": false
   },
   "outputs": [
    {
     "data": {
      "text/html": [
       "<table border=\"1\" class=\"dataframe\">\n",
       "    <thead>\n",
       "        <tr>\n",
       "            <th>geo</th> <th>time</th> <th>population_total</th>\n",
       "        </tr>\n",
       "    </thead>\n",
       "    <tbody>\n",
       "        <tr>\n",
       "            <td>abw </td> <td>1800</td> <td>19286           </td>\n",
       "        </tr>\n",
       "        <tr>\n",
       "            <td>abw </td> <td>1801</td> <td>19286           </td>\n",
       "        </tr>\n",
       "        <tr>\n",
       "            <td>abw </td> <td>1802</td> <td>19286           </td>\n",
       "        </tr>\n",
       "    </tbody>\n",
       "</table>\n",
       "<p>... (87792 rows omitted)</p>"
      ],
      "text/plain": [
       "<IPython.core.display.HTML object>"
      ]
     },
     "metadata": {},
     "output_type": "display_data"
    }
   ],
   "source": [
    "population = Table.read_table('population.csv')\n",
    "population.show(3)"
   ]
  },
  {
   "cell_type": "markdown",
   "metadata": {},
   "source": [
    "**Note:** The population csv file can also be found [here](https://github.com/open-numbers/ddf--gapminder--systema_globalis/raw/master/ddf--datapoints--population_total--by--geo--time.csv). The data for this project was downloaded in February 2017."
   ]
  },
  {
   "cell_type": "markdown",
   "metadata": {
    "deletable": false,
    "editable": false
   },
   "source": [
    "### Bangladesh\n",
    "\n",
    "In the `population` table, the `geo` column contains three-letter codes established by the [International Organization for Standardization](https://en.wikipedia.org/wiki/International_Organization_for_Standardization) (ISO) in the [Alpha-3](https://en.wikipedia.org/wiki/ISO_3166-1_alpha-3#Current_codes) standard. We will begin by taking a close look at Bangladesh. Inspect the standard to find the 3-letter code for Bangladesh."
   ]
  },
  {
   "cell_type": "markdown",
   "metadata": {
    "deletable": false,
    "editable": false
   },
   "source": [
    "**Question 1.** Create a table called `b_pop` that has two columns labeled `time` and `population_total`. The first column should contain the years from 1970 through 2015 (including both 1970 and 2015) and the second should contain the population of Bangladesh in each of those years.\n",
    "\n",
    "<!--\n",
    "BEGIN QUESTION\n",
    "name: q1_1\n",
    "-->"
   ]
  },
  {
   "cell_type": "code",
   "execution_count": 45,
   "metadata": {
    "deletable": false
   },
   "outputs": [
    {
     "data": {
      "text/html": [
       "<table border=\"1\" class=\"dataframe\">\n",
       "    <thead>\n",
       "        <tr>\n",
       "            <th>time</th> <th>population_total</th>\n",
       "        </tr>\n",
       "    </thead>\n",
       "    <tbody>\n",
       "        <tr>\n",
       "            <td>1970</td> <td>65048701        </td>\n",
       "        </tr>\n",
       "        <tr>\n",
       "            <td>1971</td> <td>66417450        </td>\n",
       "        </tr>\n",
       "        <tr>\n",
       "            <td>1972</td> <td>67578486        </td>\n",
       "        </tr>\n",
       "        <tr>\n",
       "            <td>1973</td> <td>68658472        </td>\n",
       "        </tr>\n",
       "        <tr>\n",
       "            <td>1974</td> <td>69837960        </td>\n",
       "        </tr>\n",
       "        <tr>\n",
       "            <td>1975</td> <td>71247153        </td>\n",
       "        </tr>\n",
       "        <tr>\n",
       "            <td>1976</td> <td>72930206        </td>\n",
       "        </tr>\n",
       "        <tr>\n",
       "            <td>1977</td> <td>74848466        </td>\n",
       "        </tr>\n",
       "        <tr>\n",
       "            <td>1978</td> <td>76948378        </td>\n",
       "        </tr>\n",
       "        <tr>\n",
       "            <td>1979</td> <td>79141947        </td>\n",
       "        </tr>\n",
       "    </tbody>\n",
       "</table>\n",
       "<p>... (36 rows omitted)</p>"
      ],
      "text/plain": [
       "time | population_total\n",
       "1970 | 65048701\n",
       "1971 | 66417450\n",
       "1972 | 67578486\n",
       "1973 | 68658472\n",
       "1974 | 69837960\n",
       "1975 | 71247153\n",
       "1976 | 72930206\n",
       "1977 | 74848466\n",
       "1978 | 76948378\n",
       "1979 | 79141947\n",
       "... (36 rows omitted)"
      ]
     },
     "execution_count": 45,
     "metadata": {},
     "output_type": "execute_result"
    }
   ],
   "source": [
    "b_pop = population.where(\"geo\",are.equal_to(\"bgd\")).where(\"time\",are.between_or_equal_to(1970,2015)).drop(\"geo\")\n",
    "b_pop"
   ]
  },
  {
   "cell_type": "code",
   "execution_count": 46,
   "metadata": {
    "deletable": false,
    "editable": false
   },
   "outputs": [
    {
     "name": "stdout",
     "output_type": "stream",
     "text": [
      "~~~~~~~~~~~~~~~~~~~~~~~~~~~~~~~~~~~~~~~~~~~~~~~~~~~~~~~~~~~~~~~~~~~~~\n",
      "Running tests\n",
      "\n",
      "---------------------------------------------------------------------\n",
      "Test summary\n",
      "    Passed: 2\n",
      "    Failed: 0\n",
      "[ooooooooook] 100.0% passed\n",
      "\n"
     ]
    }
   ],
   "source": [
    "ok.grade(\"q1_1\");"
   ]
  },
  {
   "cell_type": "markdown",
   "metadata": {
    "deletable": false,
    "editable": false
   },
   "source": [
    "Run the following cell to create a table called `b_five` that has the population of Bangladesh every five years. At a glance, it appears that the population of Bangladesh has been growing quickly indeed!"
   ]
  },
  {
   "cell_type": "code",
   "execution_count": 47,
   "metadata": {
    "deletable": false,
    "editable": false
   },
   "outputs": [
    {
     "data": {
      "text/html": [
       "<table border=\"1\" class=\"dataframe\">\n",
       "    <thead>\n",
       "        <tr>\n",
       "            <th>time</th> <th>population_total</th>\n",
       "        </tr>\n",
       "    </thead>\n",
       "    <tbody>\n",
       "        <tr>\n",
       "            <td>1970</td> <td>65,048,701      </td>\n",
       "        </tr>\n",
       "        <tr>\n",
       "            <td>1975</td> <td>71,247,153      </td>\n",
       "        </tr>\n",
       "        <tr>\n",
       "            <td>1980</td> <td>81,364,176      </td>\n",
       "        </tr>\n",
       "        <tr>\n",
       "            <td>1985</td> <td>93,015,182      </td>\n",
       "        </tr>\n",
       "        <tr>\n",
       "            <td>1990</td> <td>105,983,136     </td>\n",
       "        </tr>\n",
       "        <tr>\n",
       "            <td>1995</td> <td>118,427,768     </td>\n",
       "        </tr>\n",
       "        <tr>\n",
       "            <td>2000</td> <td>131,280,739     </td>\n",
       "        </tr>\n",
       "        <tr>\n",
       "            <td>2005</td> <td>142,929,979     </td>\n",
       "        </tr>\n",
       "        <tr>\n",
       "            <td>2010</td> <td>151,616,777     </td>\n",
       "        </tr>\n",
       "        <tr>\n",
       "            <td>2015</td> <td>160,995,642     </td>\n",
       "        </tr>\n",
       "    </tbody>\n",
       "</table>"
      ],
      "text/plain": [
       "time | population_total\n",
       "1970 | 65,048,701\n",
       "1975 | 71,247,153\n",
       "1980 | 81,364,176\n",
       "1985 | 93,015,182\n",
       "1990 | 105,983,136\n",
       "1995 | 118,427,768\n",
       "2000 | 131,280,739\n",
       "2005 | 142,929,979\n",
       "2010 | 151,616,777\n",
       "2015 | 160,995,642"
      ]
     },
     "execution_count": 47,
     "metadata": {},
     "output_type": "execute_result"
    }
   ],
   "source": [
    "b_pop.set_format('population_total', NumberFormatter)\n",
    "\n",
    "fives = np.arange(1970, 2016, 5) # 1970, 1975, 1980, ...\n",
    "b_five = b_pop.sort('time').where('time', are.contained_in(fives))\n",
    "b_five"
   ]
  },
  {
   "cell_type": "markdown",
   "metadata": {
    "deletable": false,
    "editable": false
   },
   "source": [
    "**Question 2.** Assign `initial` to an array that contains the population for every five year interval from 1970 to 2010. Then, assign `changed` to an array that contains the population for every five year interval from 1975 to 2015. You should use the `b_five` table to create both arrays, first filtering the table to only contain the relevant years.\n",
    "\n",
    "We have provided the code below that uses  `initial` and `changed` in order to add a column to `b_five` called `annual_growth`. Don't worry about the calculation of the growth rates; run the test below to test your solution.\n",
    "\n",
    "If you are interested in how we came up with the formula for growth rates, consult the [growth rates](https://www.inferentialthinking.com/chapters/03/2/1/growth) section of the textbook.\n",
    "\n",
    "<!--\n",
    "BEGIN QUESTION\n",
    "name: q1_2\n",
    "-->"
   ]
  },
  {
   "cell_type": "code",
   "execution_count": 48,
   "metadata": {
    "deletable": false
   },
   "outputs": [
    {
     "data": {
      "text/html": [
       "<table border=\"1\" class=\"dataframe\">\n",
       "    <thead>\n",
       "        <tr>\n",
       "            <th>time</th> <th>population_total</th> <th>annual_growth</th>\n",
       "        </tr>\n",
       "    </thead>\n",
       "    <tbody>\n",
       "        <tr>\n",
       "            <td>1970</td> <td>65,048,701      </td> <td>1.84%        </td>\n",
       "        </tr>\n",
       "        <tr>\n",
       "            <td>1975</td> <td>71,247,153      </td> <td>2.69%        </td>\n",
       "        </tr>\n",
       "        <tr>\n",
       "            <td>1980</td> <td>81,364,176      </td> <td>2.71%        </td>\n",
       "        </tr>\n",
       "        <tr>\n",
       "            <td>1985</td> <td>93,015,182      </td> <td>2.64%        </td>\n",
       "        </tr>\n",
       "        <tr>\n",
       "            <td>1990</td> <td>105,983,136     </td> <td>2.25%        </td>\n",
       "        </tr>\n",
       "        <tr>\n",
       "            <td>1995</td> <td>118,427,768     </td> <td>2.08%        </td>\n",
       "        </tr>\n",
       "        <tr>\n",
       "            <td>2000</td> <td>131,280,739     </td> <td>1.71%        </td>\n",
       "        </tr>\n",
       "        <tr>\n",
       "            <td>2005</td> <td>142,929,979     </td> <td>1.19%        </td>\n",
       "        </tr>\n",
       "        <tr>\n",
       "            <td>2010</td> <td>151,616,777     </td> <td>1.21%        </td>\n",
       "        </tr>\n",
       "    </tbody>\n",
       "</table>"
      ],
      "text/plain": [
       "time | population_total | annual_growth\n",
       "1970 | 65,048,701       | 1.84%\n",
       "1975 | 71,247,153       | 2.69%\n",
       "1980 | 81,364,176       | 2.71%\n",
       "1985 | 93,015,182       | 2.64%\n",
       "1990 | 105,983,136      | 2.25%\n",
       "1995 | 118,427,768      | 2.08%\n",
       "2000 | 131,280,739      | 1.71%\n",
       "2005 | 142,929,979      | 1.19%\n",
       "2010 | 151,616,777      | 1.21%"
      ]
     },
     "execution_count": 48,
     "metadata": {},
     "output_type": "execute_result"
    }
   ],
   "source": [
    "initial = b_five.where(\"time\",are.below(2015)).column(\"population_total\")\n",
    "changed = b_five.where(\"time\",are.above(1970)).column(\"population_total\")\n",
    "\n",
    "b_1970_through_2010 = b_five.where('time', are.below_or_equal_to(2010)) \n",
    "b_five_growth = b_1970_through_2010.with_column('annual_growth', (changed/initial)**0.2-1)\n",
    "b_five_growth.set_format('annual_growth', PercentFormatter)"
   ]
  },
  {
   "cell_type": "code",
   "execution_count": 49,
   "metadata": {
    "deletable": false,
    "editable": false
   },
   "outputs": [
    {
     "name": "stdout",
     "output_type": "stream",
     "text": [
      "~~~~~~~~~~~~~~~~~~~~~~~~~~~~~~~~~~~~~~~~~~~~~~~~~~~~~~~~~~~~~~~~~~~~~\n",
      "Running tests\n",
      "\n",
      "---------------------------------------------------------------------\n",
      "Test summary\n",
      "    Passed: 2\n",
      "    Failed: 0\n",
      "[ooooooooook] 100.0% passed\n",
      "\n"
     ]
    }
   ],
   "source": [
    "ok.grade(\"q1_2\");"
   ]
  },
  {
   "cell_type": "markdown",
   "metadata": {
    "deletable": false,
    "editable": false
   },
   "source": [
    "While the population has grown every five years since 1970, the annual growth rate decreased dramatically from 1985 to 2005. Let's look at some other information in order to develop a possible explanation. Run the next cell to load three additional tables of measurements about countries over time."
   ]
  },
  {
   "cell_type": "code",
   "execution_count": 50,
   "metadata": {
    "deletable": false,
    "editable": false
   },
   "outputs": [],
   "source": [
    "life_expectancy = Table.read_table('life_expectancy.csv')\n",
    "child_mortality = Table.read_table('child_mortality.csv').relabel(2, 'child_mortality_under_5_per_1000_born')\n",
    "fertility = Table.read_table('fertility.csv')"
   ]
  },
  {
   "cell_type": "markdown",
   "metadata": {
    "deletable": false,
    "editable": false
   },
   "source": [
    "The `life_expectancy` table contains a statistic that is often used to measure how long people live, called *life expectancy at birth*. This number, for a country in a given year, [does not measure how long babies born in that year are expected to live](http://blogs.worldbank.org/opendata/what-does-life-expectancy-birth-really-mean). Instead, it measures how long someone would live, on average, if the *mortality conditions* in that year persisted throughout their lifetime. These \"mortality conditions\" describe what fraction of people at each age survived the year. So, it is a way of measuring the proportion of people that are staying alive, aggregated over different age groups in the population."
   ]
  },
  {
   "cell_type": "markdown",
   "metadata": {},
   "source": [
    "Run the following cells below to see `life_expectancy`, `child_mortality`, and `fertility`. Refer back to these tables as they will be helpful for answering further questions!"
   ]
  },
  {
   "cell_type": "code",
   "execution_count": 51,
   "metadata": {},
   "outputs": [
    {
     "data": {
      "text/html": [
       "<table border=\"1\" class=\"dataframe\">\n",
       "    <thead>\n",
       "        <tr>\n",
       "            <th>geo</th> <th>time</th> <th>life_expectancy_years</th>\n",
       "        </tr>\n",
       "    </thead>\n",
       "    <tbody>\n",
       "        <tr>\n",
       "            <td>afg </td> <td>1800</td> <td>28.21                </td>\n",
       "        </tr>\n",
       "        <tr>\n",
       "            <td>afg </td> <td>1801</td> <td>28.2                 </td>\n",
       "        </tr>\n",
       "        <tr>\n",
       "            <td>afg </td> <td>1802</td> <td>28.19                </td>\n",
       "        </tr>\n",
       "        <tr>\n",
       "            <td>afg </td> <td>1803</td> <td>28.18                </td>\n",
       "        </tr>\n",
       "        <tr>\n",
       "            <td>afg </td> <td>1804</td> <td>28.17                </td>\n",
       "        </tr>\n",
       "        <tr>\n",
       "            <td>afg </td> <td>1805</td> <td>28.16                </td>\n",
       "        </tr>\n",
       "        <tr>\n",
       "            <td>afg </td> <td>1806</td> <td>28.15                </td>\n",
       "        </tr>\n",
       "        <tr>\n",
       "            <td>afg </td> <td>1807</td> <td>28.14                </td>\n",
       "        </tr>\n",
       "        <tr>\n",
       "            <td>afg </td> <td>1808</td> <td>28.13                </td>\n",
       "        </tr>\n",
       "        <tr>\n",
       "            <td>afg </td> <td>1809</td> <td>28.12                </td>\n",
       "        </tr>\n",
       "    </tbody>\n",
       "</table>\n",
       "<p>... (43847 rows omitted)</p>"
      ],
      "text/plain": [
       "geo  | time | life_expectancy_years\n",
       "afg  | 1800 | 28.21\n",
       "afg  | 1801 | 28.2\n",
       "afg  | 1802 | 28.19\n",
       "afg  | 1803 | 28.18\n",
       "afg  | 1804 | 28.17\n",
       "afg  | 1805 | 28.16\n",
       "afg  | 1806 | 28.15\n",
       "afg  | 1807 | 28.14\n",
       "afg  | 1808 | 28.13\n",
       "afg  | 1809 | 28.12\n",
       "... (43847 rows omitted)"
      ]
     },
     "execution_count": 51,
     "metadata": {},
     "output_type": "execute_result"
    }
   ],
   "source": [
    "life_expectancy"
   ]
  },
  {
   "cell_type": "code",
   "execution_count": 52,
   "metadata": {},
   "outputs": [
    {
     "data": {
      "text/html": [
       "<table border=\"1\" class=\"dataframe\">\n",
       "    <thead>\n",
       "        <tr>\n",
       "            <th>geo</th> <th>time</th> <th>child_mortality_under_5_per_1000_born</th>\n",
       "        </tr>\n",
       "    </thead>\n",
       "    <tbody>\n",
       "        <tr>\n",
       "            <td>afg </td> <td>1800</td> <td>468.6                                </td>\n",
       "        </tr>\n",
       "        <tr>\n",
       "            <td>afg </td> <td>1801</td> <td>468.6                                </td>\n",
       "        </tr>\n",
       "        <tr>\n",
       "            <td>afg </td> <td>1802</td> <td>468.6                                </td>\n",
       "        </tr>\n",
       "        <tr>\n",
       "            <td>afg </td> <td>1803</td> <td>468.6                                </td>\n",
       "        </tr>\n",
       "        <tr>\n",
       "            <td>afg </td> <td>1804</td> <td>468.6                                </td>\n",
       "        </tr>\n",
       "        <tr>\n",
       "            <td>afg </td> <td>1805</td> <td>468.6                                </td>\n",
       "        </tr>\n",
       "        <tr>\n",
       "            <td>afg </td> <td>1806</td> <td>470                                  </td>\n",
       "        </tr>\n",
       "        <tr>\n",
       "            <td>afg </td> <td>1807</td> <td>470                                  </td>\n",
       "        </tr>\n",
       "        <tr>\n",
       "            <td>afg </td> <td>1808</td> <td>470                                  </td>\n",
       "        </tr>\n",
       "        <tr>\n",
       "            <td>afg </td> <td>1809</td> <td>470                                  </td>\n",
       "        </tr>\n",
       "    </tbody>\n",
       "</table>\n",
       "<p>... (40746 rows omitted)</p>"
      ],
      "text/plain": [
       "geo  | time | child_mortality_under_5_per_1000_born\n",
       "afg  | 1800 | 468.6\n",
       "afg  | 1801 | 468.6\n",
       "afg  | 1802 | 468.6\n",
       "afg  | 1803 | 468.6\n",
       "afg  | 1804 | 468.6\n",
       "afg  | 1805 | 468.6\n",
       "afg  | 1806 | 470\n",
       "afg  | 1807 | 470\n",
       "afg  | 1808 | 470\n",
       "afg  | 1809 | 470\n",
       "... (40746 rows omitted)"
      ]
     },
     "execution_count": 52,
     "metadata": {},
     "output_type": "execute_result"
    }
   ],
   "source": [
    "child_mortality"
   ]
  },
  {
   "cell_type": "code",
   "execution_count": 53,
   "metadata": {},
   "outputs": [
    {
     "data": {
      "text/html": [
       "<table border=\"1\" class=\"dataframe\">\n",
       "    <thead>\n",
       "        <tr>\n",
       "            <th>geo</th> <th>time</th> <th>children_per_woman_total_fertility</th>\n",
       "        </tr>\n",
       "    </thead>\n",
       "    <tbody>\n",
       "        <tr>\n",
       "            <td>afg </td> <td>1800</td> <td>7                                 </td>\n",
       "        </tr>\n",
       "        <tr>\n",
       "            <td>afg </td> <td>1801</td> <td>7                                 </td>\n",
       "        </tr>\n",
       "        <tr>\n",
       "            <td>afg </td> <td>1802</td> <td>7                                 </td>\n",
       "        </tr>\n",
       "        <tr>\n",
       "            <td>afg </td> <td>1803</td> <td>7                                 </td>\n",
       "        </tr>\n",
       "        <tr>\n",
       "            <td>afg </td> <td>1804</td> <td>7                                 </td>\n",
       "        </tr>\n",
       "        <tr>\n",
       "            <td>afg </td> <td>1805</td> <td>7                                 </td>\n",
       "        </tr>\n",
       "        <tr>\n",
       "            <td>afg </td> <td>1806</td> <td>7                                 </td>\n",
       "        </tr>\n",
       "        <tr>\n",
       "            <td>afg </td> <td>1807</td> <td>7                                 </td>\n",
       "        </tr>\n",
       "        <tr>\n",
       "            <td>afg </td> <td>1808</td> <td>7                                 </td>\n",
       "        </tr>\n",
       "        <tr>\n",
       "            <td>afg </td> <td>1809</td> <td>7                                 </td>\n",
       "        </tr>\n",
       "    </tbody>\n",
       "</table>\n",
       "<p>... (43402 rows omitted)</p>"
      ],
      "text/plain": [
       "geo  | time | children_per_woman_total_fertility\n",
       "afg  | 1800 | 7\n",
       "afg  | 1801 | 7\n",
       "afg  | 1802 | 7\n",
       "afg  | 1803 | 7\n",
       "afg  | 1804 | 7\n",
       "afg  | 1805 | 7\n",
       "afg  | 1806 | 7\n",
       "afg  | 1807 | 7\n",
       "afg  | 1808 | 7\n",
       "afg  | 1809 | 7\n",
       "... (43402 rows omitted)"
      ]
     },
     "execution_count": 53,
     "metadata": {},
     "output_type": "execute_result"
    }
   ],
   "source": [
    "fertility"
   ]
  },
  {
   "cell_type": "markdown",
   "metadata": {
    "deletable": false,
    "editable": false
   },
   "source": [
    "**Question 3.** Perhaps population is growing more slowly because people aren't living as long. Use the `life_expectancy` table to draw a line graph with the years 1970 and later on the horizontal axis that shows how the *life expectancy at birth* has changed in Bangladesh.\n",
    "\n",
    "<!--\n",
    "BEGIN QUESTION\n",
    "name: q1_3\n",
    "manual: true\n",
    "-->\n",
    "<!-- EXPORT TO PDF -->"
   ]
  },
  {
   "cell_type": "code",
   "execution_count": 54,
   "metadata": {
    "deletable": false,
    "export_pdf": true,
    "manual_grade": true,
    "manual_problem_id": "global_pop_3"
   },
   "outputs": [
    {
     "data": {
      "image/png": "[encoded data removed]",
      "text/plain": [
       "<Figure size 432x288 with 1 Axes>"
      ]
     },
     "metadata": {},
     "output_type": "display_data"
    }
   ],
   "source": [
    "bgd_life_expectancy = life_expectancy.where(\"geo\",are.equal_to(\"bgd\")).where(\"time\",are.above_or_equal_to(1970))\n",
    "bgd_life_expectancy.plot(\"time\",\"life_expectancy_years\")"
   ]
  },
  {
   "cell_type": "markdown",
   "metadata": {
    "deletable": false,
    "editable": false
   },
   "source": [
    "**Question 4.** Assuming everything else stays the same, do the trends in life expectancy in the graph above directly explain why the population growth rate decreased from 1985 to 2010 in Bangladesh? Why or why not? \n",
    "\n",
    "Hint: What happened in Bangladesh in 1991, and does that event explain the overall change in population growth rate?\n",
    "\n",
    "<!--\n",
    "BEGIN QUESTION\n",
    "name: q1_4\n",
    "manual: true\n",
    "-->\n",
    "<!-- EXPORT TO PDF -->"
   ]
  },
  {
   "cell_type": "markdown",
   "metadata": {
    "collapsed": true,
    "deletable": false,
    "export_pdf": true,
    "manual_grade": true,
    "manual_problem_id": "global_pop_4"
   },
   "source": [
    "    As we can see in the graph, the trend of life expectancy from 1970 to 2010 in Bangladesh is overall increasing except for a plunge in 1991. So in theory, the overall population growth rate should be consistently followed. However,the population growth rate suddenly changed its trend in 1911, from increasing to decreasing, but the life expectancy was still increasing. That's abnormal. Therefore, we focus on the reason why there's a sudden plunge in 1991 in life expectancy, and we found the disastrous cyclone storm happened in that year, which killed around 140000 people and made 10 million people homeless. Therefore,we get the conclusion that the event is the main reason of the overall change in population growth rate. The trend in life expectancy in the graph above can't directly explain why the population growth rate decreased from 1985 to 2010 in Bangladesh!"
   ]
  },
  {
   "cell_type": "markdown",
   "metadata": {
    "deletable": false,
    "editable": false
   },
   "source": [
    "The `fertility` table contains a statistic that is often used to measure how many babies are being born, the *total fertility rate*. This number describes the [number of children a woman would have in her lifetime](https://www.measureevaluation.org/prh/rh_indicators/specific/fertility/total-fertility-rate), on average, if the current rates of birth by age of the mother persisted throughout her child bearing years, assuming she survived through age 49. "
   ]
  },
  {
   "cell_type": "markdown",
   "metadata": {
    "deletable": false,
    "editable": false
   },
   "source": [
    "**Question 5.** Write a function `fertility_over_time` that takes the Alpha-3 code of a `country` and a `start` year. It returns a two-column table with labels `Year` and `Children per woman` that can be used to generate a line chart of the country's fertility rate each year, starting at the `start` year. The plot should include the `start` year and all later years that appear in the `fertility` table. \n",
    "\n",
    "Then, in the next cell, call your `fertility_over_time` function on the Alpha-3 code for Bangladesh and the year 1970 in order to plot how Bangladesh's fertility rate has changed since 1970. Note that the function `fertility_over_time` should not return the plot itself. **The expression that draws the line plot is provided for you; please don't change it.**\n",
    "\n",
    "<!--\n",
    "BEGIN QUESTION\n",
    "name: q1_5\n",
    "-->"
   ]
  },
  {
   "cell_type": "code",
   "execution_count": 55,
   "metadata": {
    "deletable": false
   },
   "outputs": [
    {
     "data": {
      "image/png": "[encoded data removed]",
      "text/plain": [
       "<Figure size 432x288 with 1 Axes>"
      ]
     },
     "metadata": {},
     "output_type": "display_data"
    }
   ],
   "source": [
    "def fertility_over_time(country, start):\n",
    "    \"\"\"Create a two-column table that describes a country's total fertility rate each year.\"\"\"\n",
    "    \n",
    "    country_fertility = fertility.where('geo', are.containing(country)).relabel('time','Year').relabel('children_per_woman_total_fertility','Children per woman')\n",
    "    country_fertility_after_start = country_fertility.select('Year','Children per woman').where('Year',are.above_or_equal_to(start))\n",
    "    \"\"\"\"cleaned_table = \"\"\"\n",
    "    return country_fertility_after_start\n",
    "\n",
    "bangladesh_code = \"bdg\"\n",
    "fertility_over_time(bangladesh_code, 1970).plot(0, 1) # You should *not* change this line."
   ]
  },
  {
   "cell_type": "code",
   "execution_count": 56,
   "metadata": {
    "deletable": false,
    "editable": false
   },
   "outputs": [
    {
     "name": "stdout",
     "output_type": "stream",
     "text": [
      "~~~~~~~~~~~~~~~~~~~~~~~~~~~~~~~~~~~~~~~~~~~~~~~~~~~~~~~~~~~~~~~~~~~~~\n",
      "Running tests\n",
      "\n",
      "---------------------------------------------------------------------\n",
      "Test summary\n",
      "    Passed: 3\n",
      "    Failed: 0\n",
      "[ooooooooook] 100.0% passed\n",
      "\n"
     ]
    }
   ],
   "source": [
    "ok.grade(\"q1_5\");"
   ]
  },
  {
   "cell_type": "markdown",
   "metadata": {
    "deletable": false,
    "editable": false
   },
   "source": [
    "**Question 6.** Assuming everything else is constant, do the trends in fertility in the graph above help directly explain why the population growth rate decreased from 1985 to 2010 in Bangladesh? Why or why not?\n",
    "\n",
    "<!--\n",
    "BEGIN QUESTION\n",
    "name: q1_6\n",
    "manual: true\n",
    "-->\n",
    "<!-- EXPORT TO PDF -->"
   ]
  },
  {
   "cell_type": "markdown",
   "metadata": {
    "deletable": false,
    "export_pdf": true,
    "manual_grade": true,
    "manual_problem_id": "global_pop_6"
   },
   "source": [
    "We can see that lower fertility rates has an association with lower child mortality rates. The fertility rate can be used to explain; if parents expect that thier children will all survive into adulthood, then parents can just have less children. If they dont believe that their children will survive, they will tend to have more children. Thus, we can conclude that the assiciation is valid in Bangladesh by plotting the relationship between total fertility rate and child mortality rate."
   ]
  },
  {
   "cell_type": "markdown",
   "metadata": {
    "deletable": false,
    "editable": false
   },
   "source": [
    "It has been observed that lower fertility rates are often associated with lower child mortality rates. The link has been attributed to family planning: if parents can expect that their children will all survive into adulthood, then they will choose to have fewer children. We can see if this association is evident in Bangladesh by plotting the relationship between total fertility rate and [child mortality rate per 1000 children](https://en.wikipedia.org/wiki/Child_mortality)."
   ]
  },
  {
   "cell_type": "markdown",
   "metadata": {
    "deletable": false,
    "editable": false
   },
   "source": [
    "**Question 7.** Using both the `fertility` and `child_mortality` tables, draw a scatter diagram that has Bangladesh's total fertility on the horizontal axis and its child mortality on the vertical axis with one point for each year, starting with 1970.\n",
    "\n",
    "**The expression that draws the scatter diagram is provided for you; please don't change it.** Instead, create a table called `post_1969_fertility_and_child_mortality` with the appropriate column labels and data in order to generate the chart correctly. Use the label `Children per woman` to describe total fertility and the label `Child deaths per 1000 born` to describe child mortality.\n",
    "\n",
    "<!--\n",
    "BEGIN QUESTION\n",
    "name: q1_7\n",
    "manual: false\n",
    "-->"
   ]
  },
  {
   "cell_type": "code",
   "execution_count": 57,
   "metadata": {
    "deletable": false
   },
   "outputs": [
    {
     "data": {
      "image/png": "[encoded data removed]",
      "text/plain": [
       "<Figure size 360x360 with 1 Axes>"
      ]
     },
     "metadata": {},
     "output_type": "display_data"
    }
   ],
   "source": [
    "bgd_fertility = fertility.where('geo', are.containing('bgd')).drop('geo').where('time', are.above_or_equal_to(1970))\n",
    "bgd_child_mortality = child_mortality.where('geo', are.containing('bgd')).drop('geo').where('time', are.above_or_equal_to(1970))\n",
    "fertility_and_child_mortality = bgd_fertility.join('time',bgd_child_mortality,'time')\n",
    "post_1969_fertility_and_child_mortality = fertility_and_child_mortality.relabel('child_mortality_under_5_per_1000_born','Child deaths per 1000 born').relabel('children_per_woman_total_fertility','Children per woman')\n",
    "\n",
    "post_1969_fertility_and_child_mortality.scatter('Children per woman', 'Child deaths per 1000 born') # You should *not* change this line."
   ]
  },
  {
   "cell_type": "code",
   "execution_count": 58,
   "metadata": {
    "deletable": false,
    "editable": false
   },
   "outputs": [
    {
     "name": "stdout",
     "output_type": "stream",
     "text": [
      "~~~~~~~~~~~~~~~~~~~~~~~~~~~~~~~~~~~~~~~~~~~~~~~~~~~~~~~~~~~~~~~~~~~~~\n",
      "Running tests\n",
      "\n",
      "---------------------------------------------------------------------\n",
      "Test summary\n",
      "    Passed: 2\n",
      "    Failed: 0\n",
      "[ooooooooook] 100.0% passed\n",
      "\n"
     ]
    }
   ],
   "source": [
    "ok.grade(\"q1_7\");"
   ]
  },
  {
   "cell_type": "markdown",
   "metadata": {
    "deletable": false,
    "editable": false
   },
   "source": [
    "**Question 8.** In one or two sentences, describe the association (if any) that is illustrated by this scatter diagram. Does the diagram show that reduced child mortality causes parents to choose to have fewer children?\n",
    "\n",
    "<!--\n",
    "BEGIN QUESTION\n",
    "name: q1_8\n",
    "manual: true\n",
    "-->\n",
    "<!-- EXPORT TO PDF -->"
   ]
  },
  {
   "cell_type": "markdown",
   "metadata": {
    "deletable": false,
    "export_pdf": true,
    "manual_grade": true,
    "manual_problem_id": "global_pop_8"
   },
   "source": [
    "*Write your answer here, replacing this text.*"
   ]
  },
  {
   "cell_type": "markdown",
   "metadata": {},
   "source": [
    "### Checkpoint (due Friday 2/21)\n",
    "#### Congratulations, you have reached the checkpoint! Run the submit cell below to generate the checkpoint submission."
   ]
  },
  {
   "cell_type": "code",
   "execution_count": 59,
   "metadata": {},
   "outputs": [
    {
     "data": {
      "application/javascript": [
       "IPython.notebook.save_checkpoint();"
      ],
      "text/plain": [
       "<IPython.core.display.Javascript object>"
      ]
     },
     "metadata": {},
     "output_type": "display_data"
    },
    {
     "data": {
      "application/javascript": [
       "IPython.notebook.save_notebook();"
      ],
      "text/plain": [
       "<IPython.core.display.Javascript object>"
      ]
     },
     "metadata": {},
     "output_type": "display_data"
    },
    {
     "name": "stdout",
     "output_type": "stream",
     "text": [
      "Saving notebook... Saved 'project1.ipynb'.\n",
      "Submit... 100% complete\n",
      "Submission successful for user: whtwht3061@berkeley.edu\n",
      "URL: https://okpy.org/cal/data8/sp20/project1/submissions/BrwQVY\n",
      "\n"
     ]
    }
   ],
   "source": [
    "_ = ok.submit()"
   ]
  },
  {
   "cell_type": "markdown",
   "metadata": {
    "deletable": false,
    "editable": false
   },
   "source": [
    "### The World\n",
    "\n",
    "The change observed in Bangladesh since 1970 can also be observed in many other developing countries: health services improve, life expectancy increases, and child mortality decreases. At the same time, the fertility rate often plummets, and so the population growth rate decreases despite increasing longevity."
   ]
  },
  {
   "cell_type": "markdown",
   "metadata": {
    "deletable": false,
    "editable": false
   },
   "source": [
    "Run the cell below to generate two overlaid histograms, one for 1960 and one for 2010, that show the distributions of total fertility rates for these two years among all 201 countries in the `fertility` table."
   ]
  },
  {
   "cell_type": "code",
   "execution_count": 60,
   "metadata": {
    "deletable": false
   },
   "outputs": [
    {
     "data": {
      "image/png": "[encoded data removed]",
      "text/plain": [
       "<Figure size 432x288 with 1 Axes>"
      ]
     },
     "metadata": {},
     "output_type": "display_data"
    }
   ],
   "source": [
    "Table().with_columns(\n",
    "    '1960', fertility.where('time', 1960).column(2),\n",
    "    '2010', fertility.where('time', 2010).column(2)\n",
    ").hist(bins=np.arange(0, 10, 0.5), unit='child per woman')\n",
    "_ = plots.xlabel('Children per woman')\n",
    "_ = plots.ylabel('Percent per children per woman')\n",
    "_ = plots.xticks(np.arange(10))"
   ]
  },
  {
   "cell_type": "markdown",
   "metadata": {
    "deletable": false,
    "editable": false
   },
   "source": [
    "**Question 9.** Assign `fertility_statements` to an array of the numbers of each statement below that can be correctly inferred from these histograms.\n",
    "1. About the same number of countries had a fertility rate between 3.5 and 4.5 in both 1960 and 2010.\n",
    "1. In 2010, about 40% of countries had a fertility rate between 1.5 and 2.\n",
    "1. In 1960, less than 20% of countries had a fertility rate below 3.\n",
    "1. More countries had a fertility rate above 3 in 1960 than in 2010.\n",
    "1. At least half of countries had a fertility rate between 5 and 8 in 1960.\n",
    "1. At least half of countries had a fertility rate below 3 in 2010.\n",
    "\n",
    "<!--\n",
    "BEGIN QUESTION\n",
    "name: q1_9\n",
    "-->"
   ]
  },
  {
   "cell_type": "code",
   "execution_count": 61,
   "metadata": {
    "deletable": false
   },
   "outputs": [],
   "source": [
    "fertility_statements =  (1, 2, 3, 4, 5, 6)"
   ]
  },
  {
   "cell_type": "code",
   "execution_count": 62,
   "metadata": {
    "deletable": false,
    "editable": false
   },
   "outputs": [
    {
     "name": "stdout",
     "output_type": "stream",
     "text": [
      "~~~~~~~~~~~~~~~~~~~~~~~~~~~~~~~~~~~~~~~~~~~~~~~~~~~~~~~~~~~~~~~~~~~~~\n",
      "Running tests\n",
      "\n",
      "---------------------------------------------------------------------\n",
      "Test summary\n",
      "    Passed: 1\n",
      "    Failed: 0\n",
      "[ooooooooook] 100.0% passed\n",
      "\n"
     ]
    }
   ],
   "source": [
    "ok.grade(\"q1_9\");"
   ]
  },
  {
   "cell_type": "markdown",
   "metadata": {
    "deletable": false,
    "editable": false
   },
   "source": [
    "**Question 10.** Draw a line plot of the world population from 1800 through 2005. The world population is the sum of all the country's populations. \n",
    "\n",
    "<!--\n",
    "BEGIN QUESTION\n",
    "name: q1_10\n",
    "manual: true\n",
    "-->\n",
    "<!-- EXPORT TO PDF -->"
   ]
  },
  {
   "cell_type": "code",
   "execution_count": 63,
   "metadata": {
    "deletable": false,
    "export_pdf": true,
    "manual_grade": true,
    "manual_problem_id": "global_pop_10"
   },
   "outputs": [
    {
     "data": {
      "image/png": "[encoded data removed]",
      "text/plain": [
       "<Figure size 432x288 with 1 Axes>"
      ]
     },
     "metadata": {},
     "output_type": "display_data"
    }
   ],
   "source": [
    "#Fill in code here\n",
    "\n",
    "population.where('time',are.between_or_equal_to(1800,2005)).group('time',sum).plot('time','population_total sum')"
   ]
  },
  {
   "cell_type": "markdown",
   "metadata": {
    "deletable": false,
    "editable": false
   },
   "source": [
    "**Question 11.** Create a function `stats_for_year` that takes a `year` and returns a table of statistics. The table it returns should have four columns: `geo`, `population_total`, `children_per_woman_total_fertility`, and `child_mortality_under_5_per_1000_born`. Each row should contain one Alpha-3 country code and three statistics: population, fertility rate, and child mortality for that `year` from the `population`, `fertility` and `child_mortality` tables. Only include rows for which all three statistics are available for the country and year.\n",
    "\n",
    "In addition, restrict the result to country codes that appears in `big_50`, an array of the 50 most populous countries in 2010. This restriction will speed up computations later in the project.\n",
    "\n",
    "After you write `stats_for_year`, try calling `stats_for_year` on any year between 1960 and 2010. Try to understand the output of stats_for_year.\n",
    "\n",
    "*Hint*: The tests for this question are quite comprehensive, so if you pass the tests, your function is probably correct. However, without calling your function yourself and looking at the output, it will be very difficult to understand any problems you have, so try your best to write the function correctly and check that it works before you rely on the `ok` tests to confirm your work.\n",
    "\n",
    "<!--\n",
    "BEGIN QUESTION\n",
    "name: q1_11\n",
    "manual: false\n",
    "-->"
   ]
  },
  {
   "cell_type": "code",
   "execution_count": 64,
   "metadata": {
    "deletable": false
   },
   "outputs": [
    {
     "data": {
      "text/html": [
       "<table border=\"1\" class=\"dataframe\">\n",
       "    <thead>\n",
       "        <tr>\n",
       "            <th>geo</th> <th>population_total</th> <th>children_per_woman_total_fertility</th> <th>child_mortality_under_5_per_1000_born</th>\n",
       "        </tr>\n",
       "    </thead>\n",
       "    <tbody>\n",
       "        <tr>\n",
       "            <td>afg </td> <td>27962207        </td> <td>5.66                              </td> <td>105                                  </td>\n",
       "        </tr>\n",
       "        <tr>\n",
       "            <td>arg </td> <td>41222875        </td> <td>2.22                              </td> <td>14.6                                 </td>\n",
       "        </tr>\n",
       "        <tr>\n",
       "            <td>bgd </td> <td>151616777       </td> <td>2.28                              </td> <td>49.6                                 </td>\n",
       "        </tr>\n",
       "        <tr>\n",
       "            <td>bra </td> <td>198614208       </td> <td>1.84                              </td> <td>16.7                                 </td>\n",
       "        </tr>\n",
       "        <tr>\n",
       "            <td>can </td> <td>34126173        </td> <td>1.63                              </td> <td>5.6                                  </td>\n",
       "        </tr>\n",
       "        <tr>\n",
       "            <td>chn </td> <td>1340968737      </td> <td>1.54                              </td> <td>15.7                                 </td>\n",
       "        </tr>\n",
       "        <tr>\n",
       "            <td>cod </td> <td>65938712        </td> <td>6.25                              </td> <td>116.1                                </td>\n",
       "        </tr>\n",
       "        <tr>\n",
       "            <td>col </td> <td>45918101        </td> <td>2.38                              </td> <td>18.5                                 </td>\n",
       "        </tr>\n",
       "        <tr>\n",
       "            <td>deu </td> <td>80435307        </td> <td>1.39                              </td> <td>4.2                                  </td>\n",
       "        </tr>\n",
       "        <tr>\n",
       "            <td>dza </td> <td>36036159        </td> <td>2.82                              </td> <td>27.4                                 </td>\n",
       "        </tr>\n",
       "    </tbody>\n",
       "</table>\n",
       "<p>... (40 rows omitted)</p>"
      ],
      "text/plain": [
       "geo  | population_total | children_per_woman_total_fertility | child_mortality_under_5_per_1000_born\n",
       "afg  | 27962207         | 5.66                               | 105\n",
       "arg  | 41222875         | 2.22                               | 14.6\n",
       "bgd  | 151616777        | 2.28                               | 49.6\n",
       "bra  | 198614208        | 1.84                               | 16.7\n",
       "can  | 34126173         | 1.63                               | 5.6\n",
       "chn  | 1340968737       | 1.54                               | 15.7\n",
       "cod  | 65938712         | 6.25                               | 116.1\n",
       "col  | 45918101         | 2.38                               | 18.5\n",
       "deu  | 80435307         | 1.39                               | 4.2\n",
       "dza  | 36036159         | 2.82                               | 27.4\n",
       "... (40 rows omitted)"
      ]
     },
     "execution_count": 64,
     "metadata": {},
     "output_type": "execute_result"
    }
   ],
   "source": [
    "# We first create a population table that only includes the \n",
    "# 50 countries with the largest 2010 populations. We focus on \n",
    "# these 50 countries only so that plotting later will run faster.\n",
    "big_50 = population.where('time', are.equal_to(2010)).sort(\"population_total\", descending=True).take(np.arange(50)).column('geo')\n",
    "population_of_big_50 = population.where('time', are.above(1959)).where('geo', are.contained_in(big_50))\n",
    "\n",
    "def stats_for_year(year):\n",
    "    \"\"\"Return a table of the stats for each country that year.\"\"\"\n",
    "    p = population_of_big_50.where('time', are.equal_to(year)).drop('time')\n",
    "    f = fertility.where('time', are.equal_to(year)).drop('time')\n",
    "    c = child_mortality.where('time', are.equal_to(year)).drop('time')\n",
    "    return p.join('geo',f).join('geo',c)\n",
    "\n",
    "stats_for_year(2010)"
   ]
  },
  {
   "cell_type": "code",
   "execution_count": 65,
   "metadata": {
    "deletable": false,
    "editable": false
   },
   "outputs": [
    {
     "name": "stdout",
     "output_type": "stream",
     "text": [
      "~~~~~~~~~~~~~~~~~~~~~~~~~~~~~~~~~~~~~~~~~~~~~~~~~~~~~~~~~~~~~~~~~~~~~\n",
      "Running tests\n",
      "\n",
      "---------------------------------------------------------------------\n",
      "Test summary\n",
      "    Passed: 4\n",
      "    Failed: 0\n",
      "[ooooooooook] 100.0% passed\n",
      "\n"
     ]
    }
   ],
   "source": [
    "ok.grade(\"q1_11\");"
   ]
  },
  {
   "cell_type": "markdown",
   "metadata": {
    "deletable": false,
    "editable": false
   },
   "source": [
    "**Question 12.** Create a table called `pop_by_decade` with two columns called `decade` and `population`. It has a row for each `year` since 1960 that starts a decade. The `population` column contains the total population of all countries included in the result of `stats_for_year(year)` for the first `year` of the decade. For example, 1960 is the first year of the 1960's decade. You should see that these countries contain most of the world's population.\n",
    "\n",
    "*Hint:* One approach is to define a function `pop_for_year` that computes this total population, then `apply` it to the `decade` column.  The `stats_for_year` function from the previous question may be useful here.\n",
    "\n",
    "This first test is just a sanity check for your helper function if you choose to use it. You will not lose points for not implementing the function `pop_for_year`.\n",
    "\n",
    "**Note:** The cell where you will generate the `pop_by_decade` table is below the cell where you can choose to define the helper function `pop_for_year`. You should define your `pop_by_decade` table in the cell that starts with the table `decades` being defined. \n",
    "\n",
    "<!--\n",
    "BEGIN QUESTION\n",
    "name: q1_12_0\n",
    "manual: false\n",
    "points: 0\n",
    "-->"
   ]
  },
  {
   "cell_type": "code",
   "execution_count": 66,
   "metadata": {},
   "outputs": [
    {
     "data": {
      "text/plain": [
       "2624944597"
      ]
     },
     "execution_count": 66,
     "metadata": {},
     "output_type": "execute_result"
    }
   ],
   "source": [
    "def pop_for_year(year):\n",
    "    return sum(stats_for_year(year).column('population_total'))\n",
    "\n",
    "pop_for_year(1960)"
   ]
  },
  {
   "cell_type": "code",
   "execution_count": 67,
   "metadata": {
    "deletable": false,
    "editable": false
   },
   "outputs": [
    {
     "name": "stdout",
     "output_type": "stream",
     "text": [
      "~~~~~~~~~~~~~~~~~~~~~~~~~~~~~~~~~~~~~~~~~~~~~~~~~~~~~~~~~~~~~~~~~~~~~\n",
      "Running tests\n",
      "\n",
      "---------------------------------------------------------------------\n",
      "Test summary\n",
      "    Passed: 3\n",
      "    Failed: 0\n",
      "[ooooooooook] 100.0% passed\n",
      "\n"
     ]
    }
   ],
   "source": [
    "ok.grade(\"q1_12_0\");"
   ]
  },
  {
   "cell_type": "markdown",
   "metadata": {
    "deletable": false,
    "editable": false
   },
   "source": [
    "Now that you've defined your helper function (if you've chosen to do so), define the `pop_by_decade` table.\n",
    "\n",
    "<!--\n",
    "BEGIN QUESTION\n",
    "name: q1_12\n",
    "manual: false\n",
    "-->"
   ]
  },
  {
   "cell_type": "code",
   "execution_count": 68,
   "metadata": {
    "deletable": false
   },
   "outputs": [
    {
     "data": {
      "text/html": [
       "<table border=\"1\" class=\"dataframe\">\n",
       "    <thead>\n",
       "        <tr>\n",
       "            <th>decade</th> <th>population</th>\n",
       "        </tr>\n",
       "    </thead>\n",
       "    <tbody>\n",
       "        <tr>\n",
       "            <td>1960  </td> <td>2,624,944,597</td>\n",
       "        </tr>\n",
       "        <tr>\n",
       "            <td>1970  </td> <td>3,211,487,418</td>\n",
       "        </tr>\n",
       "        <tr>\n",
       "            <td>1980  </td> <td>3,880,722,003</td>\n",
       "        </tr>\n",
       "        <tr>\n",
       "            <td>1990  </td> <td>4,648,434,558</td>\n",
       "        </tr>\n",
       "        <tr>\n",
       "            <td>2000  </td> <td>5,367,553,063</td>\n",
       "        </tr>\n",
       "        <tr>\n",
       "            <td>2010  </td> <td>6,040,810,517</td>\n",
       "        </tr>\n",
       "    </tbody>\n",
       "</table>"
      ],
      "text/plain": [
       "decade | population\n",
       "1960   | 2,624,944,597\n",
       "1970   | 3,211,487,418\n",
       "1980   | 3,880,722,003\n",
       "1990   | 4,648,434,558\n",
       "2000   | 5,367,553,063\n",
       "2010   | 6,040,810,517"
      ]
     },
     "execution_count": 68,
     "metadata": {},
     "output_type": "execute_result"
    }
   ],
   "source": [
    "decades = Table().with_column('decade', np.arange(1960, 2011, 10))\n",
    "\n",
    "pop_by_decade = decades.with_column('population', decades.apply(pop_for_year,'decade'))\n",
    "pop_by_decade.set_format(1, NumberFormatter)"
   ]
  },
  {
   "cell_type": "code",
   "execution_count": 69,
   "metadata": {
    "deletable": false,
    "editable": false
   },
   "outputs": [
    {
     "name": "stdout",
     "output_type": "stream",
     "text": [
      "~~~~~~~~~~~~~~~~~~~~~~~~~~~~~~~~~~~~~~~~~~~~~~~~~~~~~~~~~~~~~~~~~~~~~\n",
      "Running tests\n",
      "\n",
      "---------------------------------------------------------------------\n",
      "Test summary\n",
      "    Passed: 2\n",
      "    Failed: 0\n",
      "[ooooooooook] 100.0% passed\n",
      "\n"
     ]
    }
   ],
   "source": [
    "ok.grade(\"q1_12\");"
   ]
  },
  {
   "cell_type": "markdown",
   "metadata": {
    "deletable": false,
    "editable": false
   },
   "source": [
    "The `countries` table describes various characteristics of countries. The `country` column contains the same codes as the `geo` column in each of the other data tables (`population`, `fertility`, and `child_mortality`). The `world_6region` column classifies each country into a region of the world. Run the cell below to inspect the data."
   ]
  },
  {
   "cell_type": "code",
   "execution_count": 70,
   "metadata": {},
   "outputs": [
    {
     "data": {
      "text/html": [
       "<table border=\"1\" class=\"dataframe\">\n",
       "    <thead>\n",
       "        <tr>\n",
       "            <th>country</th> <th>name</th> <th>world_6region</th>\n",
       "        </tr>\n",
       "    </thead>\n",
       "    <tbody>\n",
       "        <tr>\n",
       "            <td>afg      </td> <td>Afghanistan          </td> <td>south_asia              </td>\n",
       "        </tr>\n",
       "        <tr>\n",
       "            <td>akr_a_dhe</td> <td>Akrotiri and Dhekelia</td> <td>europe_central_asia     </td>\n",
       "        </tr>\n",
       "        <tr>\n",
       "            <td>alb      </td> <td>Albania              </td> <td>europe_central_asia     </td>\n",
       "        </tr>\n",
       "        <tr>\n",
       "            <td>dza      </td> <td>Algeria              </td> <td>middle_east_north_africa</td>\n",
       "        </tr>\n",
       "        <tr>\n",
       "            <td>asm      </td> <td>American Samoa       </td> <td>east_asia_pacific       </td>\n",
       "        </tr>\n",
       "        <tr>\n",
       "            <td>and      </td> <td>Andorra              </td> <td>europe_central_asia     </td>\n",
       "        </tr>\n",
       "        <tr>\n",
       "            <td>ago      </td> <td>Angola               </td> <td>sub_saharan_africa      </td>\n",
       "        </tr>\n",
       "        <tr>\n",
       "            <td>aia      </td> <td>Anguilla             </td> <td>america                 </td>\n",
       "        </tr>\n",
       "        <tr>\n",
       "            <td>atg      </td> <td>Antigua and Barbuda  </td> <td>america                 </td>\n",
       "        </tr>\n",
       "        <tr>\n",
       "            <td>arg      </td> <td>Argentina            </td> <td>america                 </td>\n",
       "        </tr>\n",
       "    </tbody>\n",
       "</table>\n",
       "<p>... (245 rows omitted)</p>"
      ],
      "text/plain": [
       "country   | name                  | world_6region\n",
       "afg       | Afghanistan           | south_asia\n",
       "akr_a_dhe | Akrotiri and Dhekelia | europe_central_asia\n",
       "alb       | Albania               | europe_central_asia\n",
       "dza       | Algeria               | middle_east_north_africa\n",
       "asm       | American Samoa        | east_asia_pacific\n",
       "and       | Andorra               | europe_central_asia\n",
       "ago       | Angola                | sub_saharan_africa\n",
       "aia       | Anguilla              | america\n",
       "atg       | Antigua and Barbuda   | america\n",
       "arg       | Argentina             | america\n",
       "... (245 rows omitted)"
      ]
     },
     "execution_count": 70,
     "metadata": {},
     "output_type": "execute_result"
    }
   ],
   "source": [
    "countries = Table.read_table('countries.csv').where('country', are.contained_in(population.group('geo').column('geo')))\n",
    "countries.select('country', 'name', 'world_6region')"
   ]
  },
  {
   "cell_type": "markdown",
   "metadata": {
    "deletable": false,
    "editable": false
   },
   "source": [
    "**Question 13.** Create a table called `region_counts` that has two columns, `region` and `count`. It should contain two columns: a region column and a count column that contains the number of countries in each region that appear in the result of `stats_for_year(1960)`. For example, one row would have `south_asia` as its `world_6region` value and an integer as its `count` value: the number of large South Asian countries for which we have population, fertility, and child mortality numbers from 1960.\n",
    "\n",
    "<!--\n",
    "BEGIN QUESTION\n",
    "name: q1_13\n",
    "-->"
   ]
  },
  {
   "cell_type": "code",
   "execution_count": 71,
   "metadata": {
    "deletable": false
   },
   "outputs": [
    {
     "data": {
      "text/html": [
       "<table border=\"1\" class=\"dataframe\">\n",
       "    <thead>\n",
       "        <tr>\n",
       "            <th>region</th> <th>count</th>\n",
       "        </tr>\n",
       "    </thead>\n",
       "    <tbody>\n",
       "        <tr>\n",
       "            <td>america                 </td> <td>8    </td>\n",
       "        </tr>\n",
       "        <tr>\n",
       "            <td>east_asia_pacific       </td> <td>10   </td>\n",
       "        </tr>\n",
       "        <tr>\n",
       "            <td>europe_central_asia     </td> <td>10   </td>\n",
       "        </tr>\n",
       "        <tr>\n",
       "            <td>middle_east_north_africa</td> <td>7    </td>\n",
       "        </tr>\n",
       "        <tr>\n",
       "            <td>south_asia              </td> <td>5    </td>\n",
       "        </tr>\n",
       "        <tr>\n",
       "            <td>sub_saharan_africa      </td> <td>10   </td>\n",
       "        </tr>\n",
       "    </tbody>\n",
       "</table>"
      ],
      "text/plain": [
       "region                   | count\n",
       "america                  | 8\n",
       "east_asia_pacific        | 10\n",
       "europe_central_asia      | 10\n",
       "middle_east_north_africa | 7\n",
       "south_asia               | 5\n",
       "sub_saharan_africa       | 10"
      ]
     },
     "execution_count": 71,
     "metadata": {},
     "output_type": "execute_result"
    }
   ],
   "source": [
    "region_counts = region_counts = region_counts = countries.join('country',stats_for_year(1960),'geo').group('world_6region').relabel('world_6region', 'region')\n",
    "region_counts"
   ]
  },
  {
   "cell_type": "code",
   "execution_count": 72,
   "metadata": {
    "deletable": false,
    "editable": false
   },
   "outputs": [
    {
     "name": "stdout",
     "output_type": "stream",
     "text": [
      "~~~~~~~~~~~~~~~~~~~~~~~~~~~~~~~~~~~~~~~~~~~~~~~~~~~~~~~~~~~~~~~~~~~~~\n",
      "Running tests\n",
      "\n",
      "---------------------------------------------------------------------\n",
      "Test summary\n",
      "    Passed: 2\n",
      "    Failed: 0\n",
      "[ooooooooook] 100.0% passed\n",
      "\n"
     ]
    }
   ],
   "source": [
    "ok.grade(\"q1_13\");"
   ]
  },
  {
   "cell_type": "markdown",
   "metadata": {
    "deletable": false,
    "editable": false
   },
   "source": [
    "The following scatter diagram compares total fertility rate and child mortality rate for each country in 1960. The area of each dot represents the population of the country, and the color represents its region of the world. Run the cell. Do you think you can identify any of the dots?"
   ]
  },
  {
   "cell_type": "code",
   "execution_count": 73,
   "metadata": {
    "deletable": false
   },
   "outputs": [
    {
     "data": {
      "image/png": "[encoded data removed]",
      "text/plain": [
       "<Figure size 360x360 with 1 Axes>"
      ]
     },
     "metadata": {},
     "output_type": "display_data"
    }
   ],
   "source": [
    "from functools import lru_cache as cache\n",
    "\n",
    "# This cache annotation makes sure that if the same year\n",
    "# is passed as an argument twice, the work of computing\n",
    "# the result is only carried out once.\n",
    "@cache(None)\n",
    "def stats_relabeled(year):\n",
    "    \"\"\"Relabeled and cached version of stats_for_year.\"\"\"\n",
    "    return stats_for_year(year).relabel(2, 'Children per woman').relabel(3, 'Child deaths per 1000 born')\n",
    "\n",
    "def fertility_vs_child_mortality(year):\n",
    "    \"\"\"Draw a color scatter diagram comparing child mortality and fertility.\"\"\"\n",
    "    with_region = stats_relabeled(year).join('geo', countries.select('country', 'world_6region'), 'country')\n",
    "    with_region.scatter(2, 3, sizes=1, group=4, s=500)\n",
    "    plots.xlim(0,10)\n",
    "    plots.ylim(-50, 500)\n",
    "    plots.title(year)\n",
    "\n",
    "fertility_vs_child_mortality(1960)"
   ]
  },
  {
   "cell_type": "markdown",
   "metadata": {
    "deletable": false,
    "editable": false
   },
   "source": [
    "**Question 14.** Assign `scatter_statements` to an array of the numbers of each statement below that can be inferred from this scatter diagram for 1960. \n",
    "1. As a whole, the `europe_central_asia` region had the lowest child mortality rate.\n",
    "1. The lowest child mortality rate of any country was from an `east_asia_pacific` country.\n",
    "1. Most countries had a fertility rate above 5.\n",
    "1. There was an association between child mortality and fertility.\n",
    "1. The two largest countries by population also had the two highest child mortality rate.\n",
    "\n",
    "<!--\n",
    "BEGIN QUESTION\n",
    "name: q1_14\n",
    "-->"
   ]
  },
  {
   "cell_type": "code",
   "execution_count": 74,
   "metadata": {
    "deletable": false
   },
   "outputs": [],
   "source": [
    "scatter_statements = make_array(1,3,4)"
   ]
  },
  {
   "cell_type": "code",
   "execution_count": 75,
   "metadata": {
    "deletable": false,
    "editable": false
   },
   "outputs": [
    {
     "name": "stdout",
     "output_type": "stream",
     "text": [
      "~~~~~~~~~~~~~~~~~~~~~~~~~~~~~~~~~~~~~~~~~~~~~~~~~~~~~~~~~~~~~~~~~~~~~\n",
      "Running tests\n",
      "\n",
      "---------------------------------------------------------------------\n",
      "Test summary\n",
      "    Passed: 1\n",
      "    Failed: 0\n",
      "[ooooooooook] 100.0% passed\n",
      "\n"
     ]
    }
   ],
   "source": [
    "ok.grade(\"q1_14\");"
   ]
  },
  {
   "cell_type": "markdown",
   "metadata": {
    "deletable": false
   },
   "source": [
    "The result of the cell below is interactive. Drag the slider to the right to see how countries have changed over time. You'll find that the great divide between so-called \"Western\" and \"developing\" countries that existed in the 1960's has nearly disappeared. This shift in fertility rates is the reason that the global population is expected to grow more slowly in the 21st century than it did in the 19th and 20th centuries.\n",
    "\n",
    "**Note:** Don't worry if a red warning pops up when running the cell below. You'll still be able to run the cell!"
   ]
  },
  {
   "cell_type": "code",
   "execution_count": 82,
   "metadata": {
    "deletable": false,
    "scrolled": false
   },
   "outputs": [
    {
     "data": {
      "application/vnd.jupyter.widget-view+json": {
       "model_id": "c272a7710f344be99f291d0de66982b3",
       "version_major": 2,
       "version_minor": 0
      },
      "text/plain": [
       "interactive(children=(IntSlider(value=1960, description='year', max=2015, min=1960), Output()), _dom_classes=(…"
      ]
     },
     "metadata": {},
     "output_type": "display_data"
    }
   ],
   "source": [
    "import ipywidgets as widgets\n",
    "\n",
    "# This part takes a few minutes to run because it \n",
    "# computes 55 tables in advance: one for each year.\n",
    "Table().with_column('Year', np.arange(1960, 2016)).apply(stats_relabeled, 'Year')\n",
    "\n",
    "_ = widgets.interact(fertility_vs_child_mortality, \n",
    "                     year=widgets.IntSlider(min=1960, max=2015, value=1960))"
   ]
  },
  {
   "cell_type": "markdown",
   "metadata": {
    "deletable": false,
    "editable": false
   },
   "source": [
    "Now is a great time to take a break and watch the same data presented by [Hans Rosling in a 2010 TEDx talk](https://www.gapminder.org/videos/reducing-child-mortality-a-moral-and-environmental-imperative) with smoother animation and witty commentary."
   ]
  },
  {
   "cell_type": "markdown",
   "metadata": {
    "deletable": false,
    "editable": false
   },
   "source": [
    "## 2. Global Poverty\n"
   ]
  },
  {
   "cell_type": "markdown",
   "metadata": {
    "deletable": false,
    "editable": false
   },
   "source": [
    "In 1800, 85% of the world's 1 billion people lived in *extreme poverty*, defined by the United Nations as \"a condition characterized by severe deprivation of basic human needs, including food, safe drinking water, sanitation facilities, health, shelter, education and information.\" A common measure of extreme poverty is a person living on less than \\$1.25 per day.\n",
    "\n",
    "In 2018, the proportion of people living in extreme poverty was estimated to be 8%. Although the world rate of extreme poverty has declined consistently for hundreds of years, the number of people living in extreme poverty is still over 600 million. The United Nations recently adopted an [ambitious goal](http://www.un.org/sustainabledevelopment/poverty/): \"By 2030, eradicate extreme poverty for all people everywhere.\"\n",
    "In this section, we will examine extreme poverty trends around the world."
   ]
  },
  {
   "cell_type": "markdown",
   "metadata": {
    "deletable": false,
    "editable": false
   },
   "source": [
    "First, load the population and poverty rate by country and year and the country descriptions. While the `population` table has values for every recent year for many countries, the `poverty` table only includes certain years for each country in which a measurement of the rate of extreme poverty was available."
   ]
  },
  {
   "cell_type": "code",
   "execution_count": 83,
   "metadata": {},
   "outputs": [
    {
     "data": {
      "text/html": [
       "<table border=\"1\" class=\"dataframe\">\n",
       "    <thead>\n",
       "        <tr>\n",
       "            <th>geo</th> <th>time</th> <th>extreme_poverty_percent_people_below_125_a_day</th>\n",
       "        </tr>\n",
       "    </thead>\n",
       "    <tbody>\n",
       "        <tr>\n",
       "            <td>alb </td> <td>1996</td> <td>0.2                                           </td>\n",
       "        </tr>\n",
       "        <tr>\n",
       "            <td>alb </td> <td>2002</td> <td>0.73                                          </td>\n",
       "        </tr>\n",
       "        <tr>\n",
       "            <td>alb </td> <td>2004</td> <td>0.53                                          </td>\n",
       "        </tr>\n",
       "    </tbody>\n",
       "</table>\n",
       "<p>... (1096 rows omitted)</p>"
      ],
      "text/plain": [
       "<IPython.core.display.HTML object>"
      ]
     },
     "metadata": {},
     "output_type": "display_data"
    }
   ],
   "source": [
    "population = Table.read_table('population.csv')\n",
    "countries = Table.read_table('countries.csv').where('country', are.contained_in(population.group('geo').column('geo')))\n",
    "poverty = Table.read_table('poverty.csv')\n",
    "poverty.show(3)"
   ]
  },
  {
   "cell_type": "markdown",
   "metadata": {
    "deletable": false,
    "editable": false
   },
   "source": [
    "**Question 1.** Assign `latest_poverty` to a three-column table with one row for each country that appears in the `poverty` table. The first column should contain the 3-letter code for the country. The second column should contain the most recent year for which an extreme poverty rate is available for the country. The third column should contain the poverty rate in that year. **Do not change the last line, so that the labels of your table are set correctly.**\n",
    "\n",
    "*Hint*: think about how ```group``` works: it does a sequential search of the table (from top to bottom) and collects values in the array in the order in which they appear, and then applies a function to that array. The `first` function may be helpful, but you are not required to use it.\n",
    "\n",
    "<!--\n",
    "BEGIN QUESTION\n",
    "name: q2_1\n",
    "-->"
   ]
  },
  {
   "cell_type": "code",
   "execution_count": 84,
   "metadata": {
    "deletable": false
   },
   "outputs": [
    {
     "data": {
      "text/html": [
       "<table border=\"1\" class=\"dataframe\">\n",
       "    <thead>\n",
       "        <tr>\n",
       "            <th>geo</th> <th>time</th> <th>poverty_percent</th>\n",
       "        </tr>\n",
       "    </thead>\n",
       "    <tbody>\n",
       "        <tr>\n",
       "            <td>ago </td> <td>2009</td> <td>43.37          </td>\n",
       "        </tr>\n",
       "        <tr>\n",
       "            <td>alb </td> <td>2012</td> <td>0.46           </td>\n",
       "        </tr>\n",
       "        <tr>\n",
       "            <td>arg </td> <td>2011</td> <td>1.41           </td>\n",
       "        </tr>\n",
       "        <tr>\n",
       "            <td>arm </td> <td>2012</td> <td>1.75           </td>\n",
       "        </tr>\n",
       "        <tr>\n",
       "            <td>aus </td> <td>2003</td> <td>1.36           </td>\n",
       "        </tr>\n",
       "        <tr>\n",
       "            <td>aut </td> <td>2004</td> <td>0.34           </td>\n",
       "        </tr>\n",
       "        <tr>\n",
       "            <td>aze </td> <td>2008</td> <td>0.31           </td>\n",
       "        </tr>\n",
       "        <tr>\n",
       "            <td>bdi </td> <td>2006</td> <td>81.32          </td>\n",
       "        </tr>\n",
       "        <tr>\n",
       "            <td>bel </td> <td>2000</td> <td>0.5            </td>\n",
       "        </tr>\n",
       "        <tr>\n",
       "            <td>ben </td> <td>2012</td> <td>51.61          </td>\n",
       "        </tr>\n",
       "    </tbody>\n",
       "</table>\n",
       "<p>... (135 rows omitted)</p>"
      ],
      "text/plain": [
       "geo  | time | poverty_percent\n",
       "ago  | 2009 | 43.37\n",
       "alb  | 2012 | 0.46\n",
       "arg  | 2011 | 1.41\n",
       "arm  | 2012 | 1.75\n",
       "aus  | 2003 | 1.36\n",
       "aut  | 2004 | 0.34\n",
       "aze  | 2008 | 0.31\n",
       "bdi  | 2006 | 81.32\n",
       "bel  | 2000 | 0.5\n",
       "ben  | 2012 | 51.61\n",
       "... (135 rows omitted)"
      ]
     },
     "execution_count": 84,
     "metadata": {},
     "output_type": "execute_result"
    }
   ],
   "source": [
    "def first(values):\n",
    "    return values.item(0)\n",
    "\n",
    "latest_poverty = poverty.sort('time',descending=True).group('geo', first)\n",
    "\n",
    "latest_poverty = latest_poverty.relabeled(0, 'geo').relabeled(1, 'time').relabeled(2, 'poverty_percent') # You should *not* change this line.\n",
    "latest_poverty"
   ]
  },
  {
   "cell_type": "code",
   "execution_count": 85,
   "metadata": {
    "deletable": false,
    "editable": false
   },
   "outputs": [
    {
     "name": "stdout",
     "output_type": "stream",
     "text": [
      "~~~~~~~~~~~~~~~~~~~~~~~~~~~~~~~~~~~~~~~~~~~~~~~~~~~~~~~~~~~~~~~~~~~~~\n",
      "Running tests\n",
      "\n",
      "---------------------------------------------------------------------\n",
      "Test summary\n",
      "    Passed: 2\n",
      "    Failed: 0\n",
      "[ooooooooook] 100.0% passed\n",
      "\n"
     ]
    }
   ],
   "source": [
    "ok.grade(\"q2_1\");"
   ]
  },
  {
   "cell_type": "markdown",
   "metadata": {
    "deletable": false,
    "editable": false
   },
   "source": [
    "**Question 2.** Using both `latest_poverty` and `population`, create a four-column table called `recent_poverty_total` with one row for each country in `latest_poverty`. The four columns should have the following labels and contents, in the following order:\n",
    "1. `geo` contains the 3-letter country code,\n",
    "1. `poverty_percent` contains the most recent poverty percent,\n",
    "1. `population_total` contains the population of the country in 2010,\n",
    "1. `poverty_total` contains the number of people in poverty **rounded to the nearest integer**, based on the 2010 population and most recent poverty rate.\n",
    "\n",
    "<!--\n",
    "BEGIN QUESTION\n",
    "name: q2_2\n",
    "-->"
   ]
  },
  {
   "cell_type": "code",
   "execution_count": 86,
   "metadata": {
    "deletable": false
   },
   "outputs": [
    {
     "data": {
      "text/html": [
       "<table border=\"1\" class=\"dataframe\">\n",
       "    <thead>\n",
       "        <tr>\n",
       "            <th>geo</th> <th>poverty_percent</th> <th>population_total</th> <th>poverty_total</th>\n",
       "        </tr>\n",
       "    </thead>\n",
       "    <tbody>\n",
       "        <tr>\n",
       "            <td>ago </td> <td>43.37          </td> <td>21219954        </td> <td>9.20309e+06  </td>\n",
       "        </tr>\n",
       "        <tr>\n",
       "            <td>alb </td> <td>0.46           </td> <td>2901883         </td> <td>13349        </td>\n",
       "        </tr>\n",
       "        <tr>\n",
       "            <td>arg </td> <td>1.41           </td> <td>41222875        </td> <td>581243       </td>\n",
       "        </tr>\n",
       "        <tr>\n",
       "            <td>arm </td> <td>1.75           </td> <td>2963496         </td> <td>51861        </td>\n",
       "        </tr>\n",
       "        <tr>\n",
       "            <td>aus </td> <td>1.36           </td> <td>22162863        </td> <td>301415       </td>\n",
       "        </tr>\n",
       "        <tr>\n",
       "            <td>aut </td> <td>0.34           </td> <td>8391986         </td> <td>28533        </td>\n",
       "        </tr>\n",
       "        <tr>\n",
       "            <td>aze </td> <td>0.31           </td> <td>9099893         </td> <td>28210        </td>\n",
       "        </tr>\n",
       "        <tr>\n",
       "            <td>bdi </td> <td>81.32          </td> <td>9461117         </td> <td>7.69378e+06  </td>\n",
       "        </tr>\n",
       "        <tr>\n",
       "            <td>bel </td> <td>0.5            </td> <td>10929978        </td> <td>54650        </td>\n",
       "        </tr>\n",
       "        <tr>\n",
       "            <td>ben </td> <td>51.61          </td> <td>9509798         </td> <td>4.90801e+06  </td>\n",
       "        </tr>\n",
       "    </tbody>\n",
       "</table>\n",
       "<p>... (135 rows omitted)</p>"
      ],
      "text/plain": [
       "geo  | poverty_percent | population_total | poverty_total\n",
       "ago  | 43.37           | 21219954         | 9.20309e+06\n",
       "alb  | 0.46            | 2901883          | 13349\n",
       "arg  | 1.41            | 41222875         | 581243\n",
       "arm  | 1.75            | 2963496          | 51861\n",
       "aus  | 1.36            | 22162863         | 301415\n",
       "aut  | 0.34            | 8391986          | 28533\n",
       "aze  | 0.31            | 9099893          | 28210\n",
       "bdi  | 81.32           | 9461117          | 7.69378e+06\n",
       "bel  | 0.5             | 10929978         | 54650\n",
       "ben  | 51.61           | 9509798          | 4.90801e+06\n",
       "... (135 rows omitted)"
      ]
     },
     "execution_count": 86,
     "metadata": {},
     "output_type": "execute_result"
    }
   ],
   "source": [
    "pop_2010= population.where(\"time\",are.equal_to(2010)).drop(\"time\")\n",
    "poverty_and_pop = latest_poverty.drop(\"time\").join(\"geo\",pop_2010)\n",
    "recent_poverty_total = poverty_and_pop.with_column('poverty_total',np.round(poverty_and_pop.column(\"poverty_percent\")/100*poverty_and_pop.column(\"population_total\")))\n",
    "recent_poverty_total"
   ]
  },
  {
   "cell_type": "code",
   "execution_count": 87,
   "metadata": {
    "deletable": false,
    "editable": false
   },
   "outputs": [
    {
     "name": "stdout",
     "output_type": "stream",
     "text": [
      "~~~~~~~~~~~~~~~~~~~~~~~~~~~~~~~~~~~~~~~~~~~~~~~~~~~~~~~~~~~~~~~~~~~~~\n",
      "Running tests\n",
      "\n",
      "---------------------------------------------------------------------\n",
      "Test summary\n",
      "    Passed: 3\n",
      "    Failed: 0\n",
      "[ooooooooook] 100.0% passed\n",
      "\n"
     ]
    }
   ],
   "source": [
    "ok.grade(\"q2_2\");"
   ]
  },
  {
   "cell_type": "markdown",
   "metadata": {
    "deletable": false,
    "editable": false
   },
   "source": [
    "**Question 3.** Assign the name `poverty_percent` to the known percentage of the world’s 2010 population that were living in extreme poverty. Assume that the `poverty_total` numbers in the `recent_poverty_total` table describe **all** people in 2010 living in extreme poverty. You should find a number that is above the 2018 global estimate of 8%, since many country-specific poverty rates are older than 2018.\n",
    "\n",
    "*Hint*: The sum of the `population_total` column in the `recent_poverty_total` table is not the world population, because only a subset of the world's countries are included in the `recent_poverty_total` table (only some countries have known poverty rates). Use the `population` table to compute the world's 2010 total population..\n",
    "\n",
    "<!--\n",
    "BEGIN QUESTION\n",
    "name: q2_3\n",
    "-->"
   ]
  },
  {
   "cell_type": "code",
   "execution_count": 171,
   "metadata": {
    "deletable": false
   },
   "outputs": [
    {
     "data": {
      "text/plain": [
       "14.299370218520854"
      ]
     },
     "execution_count": 171,
     "metadata": {},
     "output_type": "execute_result"
    }
   ],
   "source": [
    "poverty_percent = 100*sum(recent_poverty_total.column(\"poverty_total\"))/ sum(population.where(\"time\",are.equal_to(2010)).column(\"population_total\"))\n",
    "poverty_percent"
   ]
  },
  {
   "cell_type": "code",
   "execution_count": null,
   "metadata": {
    "deletable": false,
    "editable": false
   },
   "outputs": [],
   "source": [
    "ok.grade(\"q2_3\");"
   ]
  },
  {
   "cell_type": "markdown",
   "metadata": {
    "deletable": false,
    "editable": false
   },
   "source": [
    "The `countries` table includes not only the name and region of countries, but also their positions on the globe."
   ]
  },
  {
   "cell_type": "code",
   "execution_count": 172,
   "metadata": {
    "deletable": false,
    "editable": false,
    "scrolled": true
   },
   "outputs": [
    {
     "data": {
      "text/html": [
       "<table border=\"1\" class=\"dataframe\">\n",
       "    <thead>\n",
       "        <tr>\n",
       "            <th>country</th> <th>name</th> <th>world_4region</th> <th>latitude</th> <th>longitude</th>\n",
       "        </tr>\n",
       "    </thead>\n",
       "    <tbody>\n",
       "        <tr>\n",
       "            <td>afg      </td> <td>Afghanistan          </td> <td>asia         </td> <td>33      </td> <td>66       </td>\n",
       "        </tr>\n",
       "        <tr>\n",
       "            <td>akr_a_dhe</td> <td>Akrotiri and Dhekelia</td> <td>europe       </td> <td>nan     </td> <td>nan      </td>\n",
       "        </tr>\n",
       "        <tr>\n",
       "            <td>alb      </td> <td>Albania              </td> <td>europe       </td> <td>41      </td> <td>20       </td>\n",
       "        </tr>\n",
       "        <tr>\n",
       "            <td>dza      </td> <td>Algeria              </td> <td>africa       </td> <td>28      </td> <td>3        </td>\n",
       "        </tr>\n",
       "        <tr>\n",
       "            <td>asm      </td> <td>American Samoa       </td> <td>asia         </td> <td>-11.056 </td> <td>-171.082 </td>\n",
       "        </tr>\n",
       "        <tr>\n",
       "            <td>and      </td> <td>Andorra              </td> <td>europe       </td> <td>42.5078 </td> <td>1.52109  </td>\n",
       "        </tr>\n",
       "        <tr>\n",
       "            <td>ago      </td> <td>Angola               </td> <td>africa       </td> <td>-12.5   </td> <td>18.5     </td>\n",
       "        </tr>\n",
       "        <tr>\n",
       "            <td>aia      </td> <td>Anguilla             </td> <td>americas     </td> <td>18.2167 </td> <td>-63.05   </td>\n",
       "        </tr>\n",
       "        <tr>\n",
       "            <td>atg      </td> <td>Antigua and Barbuda  </td> <td>americas     </td> <td>17.05   </td> <td>-61.8    </td>\n",
       "        </tr>\n",
       "        <tr>\n",
       "            <td>arg      </td> <td>Argentina            </td> <td>americas     </td> <td>-34     </td> <td>-64      </td>\n",
       "        </tr>\n",
       "    </tbody>\n",
       "</table>\n",
       "<p>... (245 rows omitted)</p>"
      ],
      "text/plain": [
       "country   | name                  | world_4region | latitude | longitude\n",
       "afg       | Afghanistan           | asia          | 33       | 66\n",
       "akr_a_dhe | Akrotiri and Dhekelia | europe        | nan      | nan\n",
       "alb       | Albania               | europe        | 41       | 20\n",
       "dza       | Algeria               | africa        | 28       | 3\n",
       "asm       | American Samoa        | asia          | -11.056  | -171.082\n",
       "and       | Andorra               | europe        | 42.5078  | 1.52109\n",
       "ago       | Angola                | africa        | -12.5    | 18.5\n",
       "aia       | Anguilla              | americas      | 18.2167  | -63.05\n",
       "atg       | Antigua and Barbuda   | americas      | 17.05    | -61.8\n",
       "arg       | Argentina             | americas      | -34      | -64\n",
       "... (245 rows omitted)"
      ]
     },
     "execution_count": 172,
     "metadata": {},
     "output_type": "execute_result"
    }
   ],
   "source": [
    "countries.select('country', 'name', 'world_4region', 'latitude', 'longitude')"
   ]
  },
  {
   "cell_type": "markdown",
   "metadata": {
    "deletable": false,
    "editable": false
   },
   "source": [
    "**Question 4.** Using both `countries` and `recent_poverty_total`, create a five-column table called `poverty_map` with one row for every country in `recent_poverty_total`.  The five columns should have the following labels and contents:\n",
    "1. `latitude` contains the country's latitude,\n",
    "1. `longitude` contains the country's longitude,\n",
    "1. `name` contains the country's name,\n",
    "1. `region` contains the country's region from the `world_4region` column of `countries`,\n",
    "1. `poverty_total` contains the country's poverty total.\n",
    "\n",
    "<!--\n",
    "BEGIN QUESTION\n",
    "name: q2_4\n",
    "-->"
   ]
  },
  {
   "cell_type": "code",
   "execution_count": 178,
   "metadata": {
    "deletable": false,
    "scrolled": false
   },
   "outputs": [
    {
     "data": {
      "text/html": [
       "<table border=\"1\" class=\"dataframe\">\n",
       "    <thead>\n",
       "        <tr>\n",
       "            <th>latitude</th> <th>longitude</th> <th>name</th> <th>region</th> <th>poverty_total</th>\n",
       "        </tr>\n",
       "    </thead>\n",
       "    <tbody>\n",
       "        <tr>\n",
       "            <td>-12.5   </td> <td>18.5     </td> <td>Angola    </td> <td>africa  </td> <td>9.20309e+06  </td>\n",
       "        </tr>\n",
       "        <tr>\n",
       "            <td>41      </td> <td>20       </td> <td>Albania   </td> <td>europe  </td> <td>13349        </td>\n",
       "        </tr>\n",
       "        <tr>\n",
       "            <td>-34     </td> <td>-64      </td> <td>Argentina </td> <td>americas</td> <td>581243       </td>\n",
       "        </tr>\n",
       "        <tr>\n",
       "            <td>40.25   </td> <td>45       </td> <td>Armenia   </td> <td>europe  </td> <td>51861        </td>\n",
       "        </tr>\n",
       "        <tr>\n",
       "            <td>-25     </td> <td>135      </td> <td>Australia </td> <td>asia    </td> <td>301415       </td>\n",
       "        </tr>\n",
       "        <tr>\n",
       "            <td>47.3333 </td> <td>13.3333  </td> <td>Austria   </td> <td>europe  </td> <td>28533        </td>\n",
       "        </tr>\n",
       "        <tr>\n",
       "            <td>40.5    </td> <td>47.5     </td> <td>Azerbaijan</td> <td>europe  </td> <td>28210        </td>\n",
       "        </tr>\n",
       "        <tr>\n",
       "            <td>-3.5    </td> <td>30       </td> <td>Burundi   </td> <td>africa  </td> <td>7.69378e+06  </td>\n",
       "        </tr>\n",
       "        <tr>\n",
       "            <td>50.75   </td> <td>4.5      </td> <td>Belgium   </td> <td>europe  </td> <td>54650        </td>\n",
       "        </tr>\n",
       "        <tr>\n",
       "            <td>9.5     </td> <td>2.25     </td> <td>Benin     </td> <td>africa  </td> <td>4.90801e+06  </td>\n",
       "        </tr>\n",
       "    </tbody>\n",
       "</table>\n",
       "<p>... (135 rows omitted)</p>"
      ],
      "text/plain": [
       "latitude | longitude | name       | region   | poverty_total\n",
       "-12.5    | 18.5      | Angola     | africa   | 9.20309e+06\n",
       "41       | 20        | Albania    | europe   | 13349\n",
       "-34      | -64       | Argentina  | americas | 581243\n",
       "40.25    | 45        | Armenia    | europe   | 51861\n",
       "-25      | 135       | Australia  | asia     | 301415\n",
       "47.3333  | 13.3333   | Austria    | europe   | 28533\n",
       "40.5     | 47.5      | Azerbaijan | europe   | 28210\n",
       "-3.5     | 30        | Burundi    | africa   | 7.69378e+06\n",
       "50.75    | 4.5       | Belgium    | europe   | 54650\n",
       "9.5      | 2.25      | Benin      | africa   | 4.90801e+06\n",
       "... (135 rows omitted)"
      ]
     },
     "execution_count": 178,
     "metadata": {},
     "output_type": "execute_result"
    }
   ],
   "source": [
    "map= countries.select('country', 'latitude','longitude', 'longitude','name','world_4region').relabeled('world_4region','region')\n",
    "recent_poverty_map= recent_poverty_total.select(\"geo\",\"poverty_total\")\n",
    "poverty_map = map.join(\"country\",recent_poverty_map,\"geo\").drop(\"country\")\n",
    "poverty_map"
   ]
  },
  {
   "cell_type": "code",
   "execution_count": 179,
   "metadata": {
    "deletable": false,
    "editable": false
   },
   "outputs": [
    {
     "name": "stdout",
     "output_type": "stream",
     "text": [
      "~~~~~~~~~~~~~~~~~~~~~~~~~~~~~~~~~~~~~~~~~~~~~~~~~~~~~~~~~~~~~~~~~~~~~\n",
      "Running tests\n",
      "\n",
      "---------------------------------------------------------------------\n",
      "Test summary\n",
      "    Passed: 2\n",
      "    Failed: 0\n",
      "[ooooooooook] 100.0% passed\n",
      "\n"
     ]
    }
   ],
   "source": [
    "ok.grade(\"q2_4\");"
   ]
  },
  {
   "cell_type": "markdown",
   "metadata": {
    "deletable": false,
    "editable": false
   },
   "source": [
    "Run the cell below to draw a map of the world in which the areas of circles represent the number of people living in extreme poverty. Double-click on the map to zoom in."
   ]
  },
  {
   "cell_type": "code",
   "execution_count": 180,
   "metadata": {
    "deletable": false,
    "editable": false
   },
   "outputs": [
    {
     "data": {
      "text/html": [
       "<div style=\"width:100%;\"><div style=\"position:relative;width:100%;height:0;padding-bottom:60%;\"><iframe src=\"about:blank\" style=\"position:absolute;width:100%;height:100%;left:0;top:0;border:none !important;\" data-html=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 onload=\"this.contentDocument.open();this.contentDocument.write(atob(this.getAttribute('data-html')));this.contentDocument.close();\" allowfullscreen webkitallowfullscreen mozallowfullscreen></iframe></div></div>"
      ],
      "text/plain": [
       "<datascience.maps.Map at 0x7f5818a7dac8>"
      ]
     },
     "execution_count": 180,
     "metadata": {},
     "output_type": "execute_result"
    }
   ],
   "source": [
    "# It may take a few seconds to generate this map.\n",
    "colors = {'africa': 'blue', 'europe': 'black', 'asia': 'red', 'americas': 'green'}\n",
    "scaled = poverty_map.with_columns(\n",
    "    'poverty_total', 1e-4 * poverty_map.column('poverty_total'),\n",
    "    'region', poverty_map.apply(colors.get, 'region')\n",
    ")\n",
    "Circle.map_table(scaled)"
   ]
  },
  {
   "cell_type": "markdown",
   "metadata": {
    "deletable": false,
    "editable": false
   },
   "source": [
    "Although people live in extreme poverty throughout the world (with more than 5 million in the United States), the largest numbers are in Asia and Africa."
   ]
  },
  {
   "cell_type": "markdown",
   "metadata": {
    "deletable": false,
    "editable": false
   },
   "source": [
    "**Question 5.** Assign `largest` to a two-column table with the `name` (not the 3-letter code) and `poverty_total` of the 10 countries with the largest number of people living in extreme poverty.\n",
    "\n",
    "<!--\n",
    "BEGIN QUESTION\n",
    "name: q2_5\n",
    "-->"
   ]
  },
  {
   "cell_type": "code",
   "execution_count": 187,
   "metadata": {
    "deletable": false
   },
   "outputs": [
    {
     "data": {
      "text/html": [
       "<table border=\"1\" class=\"dataframe\">\n",
       "    <thead>\n",
       "        <tr>\n",
       "            <th>name</th> <th>poverty_total</th>\n",
       "        </tr>\n",
       "    </thead>\n",
       "    <tbody>\n",
       "        <tr>\n",
       "            <td>India           </td> <td>290,881,638.00</td>\n",
       "        </tr>\n",
       "        <tr>\n",
       "            <td>Nigeria         </td> <td>98,891,167.00 </td>\n",
       "        </tr>\n",
       "        <tr>\n",
       "            <td>China           </td> <td>83,944,643.00 </td>\n",
       "        </tr>\n",
       "        <tr>\n",
       "            <td>Bangladesh      </td> <td>65,574,256.00 </td>\n",
       "        </tr>\n",
       "        <tr>\n",
       "            <td>Congo, Dem. Rep.</td> <td>57,841,438.00 </td>\n",
       "        </tr>\n",
       "        <tr>\n",
       "            <td>Indonesia       </td> <td>39,141,326.00 </td>\n",
       "        </tr>\n",
       "        <tr>\n",
       "            <td>Ethiopia        </td> <td>32,213,991.00 </td>\n",
       "        </tr>\n",
       "        <tr>\n",
       "            <td>Pakistan        </td> <td>21,663,595.00 </td>\n",
       "        </tr>\n",
       "        <tr>\n",
       "            <td>Tanzania        </td> <td>19,847,979.00 </td>\n",
       "        </tr>\n",
       "        <tr>\n",
       "            <td>Madagascar      </td> <td>18,480,426.00 </td>\n",
       "        </tr>\n",
       "    </tbody>\n",
       "</table>"
      ],
      "text/plain": [
       "name             | poverty_total\n",
       "India            | 290,881,638.00\n",
       "Nigeria          | 98,891,167.00\n",
       "China            | 83,944,643.00\n",
       "Bangladesh       | 65,574,256.00\n",
       "Congo, Dem. Rep. | 57,841,438.00\n",
       "Indonesia        | 39,141,326.00\n",
       "Ethiopia         | 32,213,991.00\n",
       "Pakistan         | 21,663,595.00\n",
       "Tanzania         | 19,847,979.00\n",
       "Madagascar       | 18,480,426.00"
      ]
     },
     "execution_count": 187,
     "metadata": {},
     "output_type": "execute_result"
    }
   ],
   "source": [
    "largest = poverty_map.sort(\"poverty_total\",descending=True).take(np.arange(10)).select(\"name\",\"poverty_total\")\n",
    "largest.set_format('poverty_total', NumberFormatter)"
   ]
  },
  {
   "cell_type": "code",
   "execution_count": 188,
   "metadata": {
    "deletable": false,
    "editable": false
   },
   "outputs": [
    {
     "name": "stdout",
     "output_type": "stream",
     "text": [
      "~~~~~~~~~~~~~~~~~~~~~~~~~~~~~~~~~~~~~~~~~~~~~~~~~~~~~~~~~~~~~~~~~~~~~\n",
      "Running tests\n",
      "\n",
      "---------------------------------------------------------------------\n",
      "Test summary\n",
      "    Passed: 3\n",
      "    Failed: 0\n",
      "[ooooooooook] 100.0% passed\n",
      "\n"
     ]
    }
   ],
   "source": [
    "ok.grade(\"q2_5\");"
   ]
  },
  {
   "cell_type": "markdown",
   "metadata": {
    "deletable": false
   },
   "source": [
    "**Question 6.** Write a function called `poverty_timeline` that takes **the name of a country** (not the geo code) as its argument. It should draw a line plot of the number of people living in poverty in that country with time on the horizontal axis. The line plot should have a point for each row in the `poverty` table for that country. To compute the population living in poverty from a poverty percentage, multiply by the population of the country **in that year**.\n",
    "\n",
    "*Hint:* To make your plot, you will first need to make a table.\n",
    "\n",
    "*Hint:* This question is long. Feel free to create cells and experiment. "
   ]
  },
  {
   "cell_type": "code",
   "execution_count": 199,
   "metadata": {},
   "outputs": [],
   "source": [
    "def poverty_timeline(country):\n",
    "    '''Draw a timeline of people living in extreme poverty in a country.'''\n",
    "    geo = countries.where(\"name\",are.equal_to(country)).column(\"country\").item(0)\n",
    "    country_poverty = poverty.where(\"geo\",are.equal_to(geo)).drop(\"geo\")\n",
    "    country_population = population.where(\"geo\",are.equal_to(geo)).drop(\"geo\")                      \n",
    "    country_poverty_and_population = country_poverty.join(\"time\",country_population)  \n",
    "    num_poverty = country_poverty_and_population.column(\"population_total\")* country_poverty_and_population.column(\"extreme_poverty_percent_people_below_125_a_day\") / 100\n",
    "    table=country_poverty_and_population.with_column(\"Poverty Number\",num_poverty)\n",
    "    table.plot(\"time\",\"Poverty Number\")\n",
    "                                    \n",
    "    # This solution will take multiple lines of code. Use as many as you need\n"
   ]
  },
  {
   "cell_type": "markdown",
   "metadata": {
    "deletable": false,
    "editable": false
   },
   "source": [
    "Finally, draw the timelines below to see how the world is changing. You can check your work by comparing your graphs to the ones on [gapminder.org](https://www.gapminder.org/tools/#$state$entities$show$country$/$in@=ind;;;;&marker$axis_y$which=number_of_people_in_poverty&scaleType=linear&spaceRef:null;;;&chart-type=linechart).\n",
    "\n",
    "<!--\n",
    "BEGIN QUESTION\n",
    "name: q2_6\n",
    "manual: true\n",
    "-->\n",
    "<!-- EXPORT TO PDF -->"
   ]
  },
  {
   "cell_type": "code",
   "execution_count": 200,
   "metadata": {
    "export_pdf": true
   },
   "outputs": [
    {
     "data": {
      "image/png": "[encoded data removed]",
      "text/plain": [
       "<Figure size 432x288 with 1 Axes>"
      ]
     },
     "metadata": {},
     "output_type": "display_data"
    },
    {
     "data": {
      "image/png": "[encoded data removed]",
      "text/plain": [
       "<Figure size 432x288 with 1 Axes>"
      ]
     },
     "metadata": {},
     "output_type": "display_data"
    },
    {
     "data": {
      "image/png": "[encoded data removed]",
      "text/plain": [
       "<Figure size 432x288 with 1 Axes>"
      ]
     },
     "metadata": {},
     "output_type": "display_data"
    },
    {
     "data": {
      "image/png": "[encoded data removed]",
      "text/plain": [
       "<Figure size 432x288 with 1 Axes>"
      ]
     },
     "metadata": {},
     "output_type": "display_data"
    }
   ],
   "source": [
    "poverty_timeline('India')\n",
    "poverty_timeline('Nigeria')\n",
    "poverty_timeline('China')\n",
    "poverty_timeline('United States')"
   ]
  },
  {
   "cell_type": "markdown",
   "metadata": {
    "deletable": false,
    "editable": false
   },
   "source": [
    "Although the number of people living in extreme poverty has been increasing in Nigeria and the United States, the massive decreases in China and India have shaped the overall trend that extreme poverty is decreasing worldwide, both in percentage and in absolute number. \n",
    "\n",
    "To learn more, watch [Hans Rosling in a 2015 film](https://www.gapminder.org/videos/dont-panic-end-poverty/) about the UN goal of eradicating extreme poverty from the world. \n",
    "\n",
    "Below, we've also added an interactive dropdown menu for you to visualize `poverty_timeline` graphs for other countries. Note that each dropdown menu selection may take a few seconds to run."
   ]
  },
  {
   "cell_type": "code",
   "execution_count": 201,
   "metadata": {
    "deletable": false,
    "editable": false
   },
   "outputs": [
    {
     "data": {
      "application/vnd.jupyter.widget-view+json": {
       "model_id": "d2c87cbef97f408fb8491c5cf1bd4601",
       "version_major": 2,
       "version_minor": 0
      },
      "text/plain": [
       "interactive(children=(Dropdown(description='country', options=('Angola', 'Albania', 'Argentina', 'Armenia', 'A…"
      ]
     },
     "metadata": {},
     "output_type": "display_data"
    }
   ],
   "source": [
    "# Just run this cell\n",
    "\n",
    "all_countries = poverty_map.column('name')\n",
    "_ = widgets.interact(poverty_timeline, country=list(all_countries))"
   ]
  },
  {
   "cell_type": "markdown",
   "metadata": {
    "deletable": false,
    "editable": false
   },
   "source": [
    "**You're finished!** Congratulations on mastering data visualization and table manipulation. Time to submit."
   ]
  },
  {
   "cell_type": "markdown",
   "metadata": {},
   "source": [
    "## 3. Submission\n"
   ]
  },
  {
   "cell_type": "markdown",
   "metadata": {
    "collapsed": true
   },
   "source": [
    "Once you're finished, select \"Save and Checkpoint\" in the File menu and then execute the `submit` cell below. The result will contain a link that you can use to check that your assignment has been submitted successfully. If you submit more than once before the deadline, we will only grade your final submission. If you mistakenly submit the wrong one, you can head to [okpy.org](https://okpy.org/) and flag the correct version. To do so, go to the website, click on this assignment, and find the version you would like to have graded. There should be an option to flag that submission for grading!"
   ]
  },
  {
   "cell_type": "code",
   "execution_count": null,
   "metadata": {},
   "outputs": [],
   "source": [
    "_ = ok.submit()"
   ]
  },
  {
   "cell_type": "code",
   "execution_count": null,
   "metadata": {},
   "outputs": [],
   "source": [
    "# For your convenience, you can run this cell to run all the tests at once!\n",
    "import os\n",
    "print(\"Running all tests...\")\n",
    "_ = [ok.grade(q[:-3]) for q in os.listdir(\"tests\") if q.startswith('q') and len(q) <= 10]\n",
    "print(\"Finished running all tests.\")"
   ]
  }
 ],
 "metadata": {
  "kernelspec": {
   "display_name": "Python 3",
   "language": "python",
   "name": "python3"
  },
  "language_info": {
   "codemirror_mode": {
    "name": "ipython",
    "version": 3
   },
   "file_extension": ".py",
   "mimetype": "text/x-python",
   "name": "python",
   "nbconvert_exporter": "python",
   "pygments_lexer": "ipython3",
   "version": "3.6.9"
  }
 },
 "nbformat": 4,
 "nbformat_minor": 1
}
