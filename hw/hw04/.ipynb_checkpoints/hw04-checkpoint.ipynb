{
 "cells": [
  {
   "cell_type": "code",
   "execution_count": 1,
   "metadata": {
    "deletable": false,
    "editable": false
   },
   "outputs": [
    {
     "name": "stdout",
     "output_type": "stream",
     "text": [
      "=====================================================================\n",
      "Assignment: Homework 4: Functions, Histograms, and Groups\n",
      "OK, version v1.12.5\n",
      "=====================================================================\n",
      "\n"
     ]
    }
   ],
   "source": [
    "# Initialize OK\n",
    "from client.api.notebook import Notebook\n",
    "ok = Notebook('hw04.ok')"
   ]
  },
  {
   "cell_type": "markdown",
   "metadata": {},
   "source": [
    "# Homework 4: Functions, Histograms, and Groups"
   ]
  },
  {
   "cell_type": "markdown",
   "metadata": {},
   "source": [
    "**Reading**: \n",
    "\n",
    "* [Visualizing Numerical Distributions](https://www.inferentialthinking.com/chapters/07/2/visualizing-numerical-distributions.html) \n",
    "* [Functions and Tables](https://www.inferentialthinking.com/chapters/08/functions-and-tables.html)"
   ]
  },
  {
   "cell_type": "markdown",
   "metadata": {},
   "source": [
    "Please complete this notebook by filling in the cells provided. Before you begin, execute the following cell to load the provided tests. Each time you start your server, you will need to execute this cell again to load the tests.\n",
    "\n",
    "Homework 4 is due Thursday, 2/20 at 11:59pm. Start early so that you can come to office hours if you're stuck. Check the website for the office hours schedule.\n",
    "You will receive an early submission bonus point if you turn in your final submission by Wednesday, 2/19 at 11:59pm. Late work will not be accepted as per the [policies](http://data8.org/sp20/policies.html) of this course. \n",
    "\n",
    "**Throughout this homework and all future ones, please be sure to not re-assign variables throughout the notebook!** For example, if you use `max_temperature` in your answer to one question, do not reassign it later on. Moreover, please be sure to only put your written answers in the provided cells. "
   ]
  },
  {
   "cell_type": "code",
   "execution_count": 2,
   "metadata": {},
   "outputs": [
    {
     "name": "stdout",
     "output_type": "stream",
     "text": [
      "=====================================================================\n",
      "Assignment: Homework 4: Functions, Histograms, and Groups\n",
      "OK, version v1.12.5\n",
      "=====================================================================\n",
      "\n"
     ]
    }
   ],
   "source": [
    "# Don't change this cell; just run it. \n",
    "\n",
    "import numpy as np\n",
    "from datascience import *\n",
    "\n",
    "# These lines do some fancy plotting magic.\\n\",\n",
    "import matplotlib\n",
    "%matplotlib inline\n",
    "import matplotlib.pyplot as plt\n",
    "plt.style.use('fivethirtyeight')\n",
    "\n",
    "from client.api.notebook import Notebook\n",
    "ok = Notebook('hw04.ok')"
   ]
  },
  {
   "cell_type": "markdown",
   "metadata": {},
   "source": [
    "Before continuing the assignment, select \"Save and Checkpoint\" in the File menu and then execute the submit cell below. The result will contain a link that you can use to check that your assignment has been submitted successfully. If you submit more than once before the deadline, we will only grade your final submission. If you mistakenly submit the wrong one, you can head to okpy.org and flag the correct version. There will be another submit cell at the end of the assignment when you finish!"
   ]
  },
  {
   "cell_type": "code",
   "execution_count": null,
   "metadata": {},
   "outputs": [
    {
     "data": {
      "application/javascript": [
       "IPython.notebook.save_checkpoint();"
      ],
      "text/plain": [
       "<IPython.core.display.Javascript object>"
      ]
     },
     "metadata": {},
     "output_type": "display_data"
    }
   ],
   "source": [
    "_ = ok.submit()"
   ]
  },
  {
   "cell_type": "markdown",
   "metadata": {},
   "source": [
    "## Burrito-ful San Diego"
   ]
  },
  {
   "cell_type": "markdown",
   "metadata": {},
   "source": [
    "Tam, Margaret and Winifred are trying to use Data Science to find the best burritos in San Diego! Their friends Irene and Maya provided them with two comprehensive datasets on many burrito establishments in the San Diego area taken from (and cleaned from): https://www.kaggle.com/srcole/burritos-in-san-diego/data"
   ]
  },
  {
   "cell_type": "markdown",
   "metadata": {},
   "source": [
    "The following cell reads in a table called `ratings` which contains names of burrito restaurants, their Yelp rating, Google rating, as well as their Overall rating. It also reads in a table called `burritos_types` which contains names of burrito restaurants, their menu items, and the cost of the respective menu item at the restaurant."
   ]
  },
  {
   "cell_type": "code",
   "execution_count": null,
   "metadata": {
    "deletable": false,
    "editable": false
   },
   "outputs": [],
   "source": [
    "#Just run this cell\n",
    "ratings = Table.read_table(\"ratings.csv\")\n",
    "ratings.show(5)\n",
    "burritos_types = Table.read_table(\"burritos_types.csv\")\n",
    "burritos_types.show(5)"
   ]
  },
  {
   "cell_type": "markdown",
   "metadata": {
    "deletable": false,
    "editable": false
   },
   "source": [
    "**Question 1.** It would be easier if we could combine the information in both tables. Assign `burritos` to the result of joining the two tables together.\n",
    "\n",
    "*Note: it doesn't matter which table you put in as the argument to the table method, either order will work for the autograder tests.*\n",
    "\n",
    "*Hint: If you need refreshers on table methods, look at the [python reference](http://data8.org/sp20/python-reference.html).*\n",
    "\n",
    "<!--\n",
    "BEGIN QUESTION\n",
    "name: q1_1\n",
    "-->"
   ]
  },
  {
   "cell_type": "code",
   "execution_count": 5,
   "metadata": {
    "scrolled": true
   },
   "outputs": [
    {
     "data": {
      "text/html": [
       "<table border=\"1\" class=\"dataframe\">\n",
       "    <thead>\n",
       "        <tr>\n",
       "            <th>Name</th> <th>Yelp</th> <th>Google</th> <th>Overall</th> <th>Menu_Item</th> <th>Cost</th>\n",
       "        </tr>\n",
       "    </thead>\n",
       "    <tbody>\n",
       "        <tr>\n",
       "            <td>Albertacos      </td> <td>3.5 </td> <td>3.9   </td> <td>3.45   </td> <td>California       </td> <td>5.7 </td>\n",
       "        </tr>\n",
       "        <tr>\n",
       "            <td>Albertacos      </td> <td>3.5 </td> <td>3.9   </td> <td>3.45   </td> <td>Carne asada      </td> <td>5.25</td>\n",
       "        </tr>\n",
       "        <tr>\n",
       "            <td>Burrito Factory </td> <td>4.5 </td> <td>4.8   </td> <td>3.5    </td> <td>Steak everything </td> <td>7.35</td>\n",
       "        </tr>\n",
       "        <tr>\n",
       "            <td>Burros and Fries</td> <td>3.5 </td> <td>4.1   </td> <td>3.575  </td> <td>California       </td> <td>7.19</td>\n",
       "        </tr>\n",
       "        <tr>\n",
       "            <td>Burros and Fries</td> <td>3.5 </td> <td>4.1   </td> <td>3.575  </td> <td>Carne asada      </td> <td>6.89</td>\n",
       "        </tr>\n",
       "    </tbody>\n",
       "</table>\n",
       "<p>... (207 rows omitted)</p>"
      ],
      "text/plain": [
       "<IPython.core.display.HTML object>"
      ]
     },
     "metadata": {},
     "output_type": "display_data"
    }
   ],
   "source": [
    "burritos = ratings.join(\"Name\",burritos_types,\"Name\")\n",
    "burritos.show(5)"
   ]
  },
  {
   "cell_type": "code",
   "execution_count": 6,
   "metadata": {
    "deletable": false,
    "editable": false
   },
   "outputs": [
    {
     "name": "stdout",
     "output_type": "stream",
     "text": [
      "~~~~~~~~~~~~~~~~~~~~~~~~~~~~~~~~~~~~~~~~~~~~~~~~~~~~~~~~~~~~~~~~~~~~~\n",
      "Running tests\n",
      "\n",
      "---------------------------------------------------------------------\n",
      "Test summary\n",
      "    Passed: 2\n",
      "    Failed: 0\n",
      "[ooooooooook] 100.0% passed\n",
      "\n"
     ]
    }
   ],
   "source": [
    "ok.grade(\"q1_1\");"
   ]
  },
  {
   "cell_type": "markdown",
   "metadata": {
    "deletable": false,
    "editable": false
   },
   "source": [
    "**Question 2.** Let's look at how the Yelp scores compare to the Google scores in the `burritos` table. First, assign `yelp_and_google` to a table only containing the columns `Yelp` and `Google`. Then, make a scatter plot with Yelp scores on the x-axis and the Google scores on the y-axis. \n",
    "\n",
    "<!--\n",
    "BEGIN QUESTION\n",
    "name: q1_2\n",
    "manual: True\n",
    "-->\n",
    "<!-- EXPORT TO PDF -->"
   ]
  },
  {
   "cell_type": "code",
   "execution_count": 7,
   "metadata": {
    "export_pdf": true
   },
   "outputs": [
    {
     "data": {
      "image/png": "[encoded data removed]",
      "text/plain": [
       "<Figure size 360x360 with 1 Axes>"
      ]
     },
     "metadata": {},
     "output_type": "display_data"
    }
   ],
   "source": [
    "yelp_and_google = burritos.select(\"Yelp\",\"Google\")\n",
    "yelp_and_google.scatter(\"Yelp\",\"Google\")\n",
    "# Don't change/edit/remove the following line.\n",
    "# To help you make conclusions, we have plotted a straight line on the graph (y=x)\n",
    "plt.plot(np.arange(2.5,5,.5), np.arange(2.5,5,.5));"
   ]
  },
  {
   "cell_type": "markdown",
   "metadata": {
    "deletable": false,
    "editable": false
   },
   "source": [
    "**Question 3.** Looking at the scatter plot you just made in Question 1.2, do you notice any pattern(s) (i.e. is one of the two types of scores consistently higher than the other one)? If so, describe them **briefly** in the cell below.\n",
    "\n",
    "<!--\n",
    "BEGIN QUESTION\n",
    "name: q1_3\n",
    "manual: True\n",
    "-->\n",
    "<!-- EXPORT TO PDF -->"
   ]
  },
  {
   "cell_type": "markdown",
   "metadata": {
    "export_pdf": true
   },
   "source": [
    "I noticed that the google scores are consistently higher than the yelp scores.More points above the line."
   ]
  },
  {
   "cell_type": "markdown",
   "metadata": {},
   "source": [
    "Here's a refresher on how `.group` works! You can read how `.group` works in the [textbook](https://www.inferentialthinking.com/chapters/08/2/Classifying_by_One_Variable.html), or you can view the video below. The video resource was made by a past staff member - Divyesh Chotai!"
   ]
  },
  {
   "cell_type": "code",
   "execution_count": 8,
   "metadata": {},
   "outputs": [
    {
     "data": {
      "image/jpeg": "[encoded data removed]",
      "text/html": [
       "\n",
       "        <iframe\n",
       "            width=\"400\"\n",
       "            height=\"300\"\n",
       "            src=\"https://www.youtube.com/embed/HLoYTCUP0fc\"\n",
       "            frameborder=\"0\"\n",
       "            allowfullscreen\n",
       "        ></iframe>\n",
       "        "
      ],
      "text/plain": [
       "<IPython.lib.display.YouTubeVideo at 0x7f34e5279d30>"
      ]
     },
     "execution_count": 8,
     "metadata": {},
     "output_type": "execute_result"
    }
   ],
   "source": [
    "from IPython.display import YouTubeVideo\n",
    "YouTubeVideo(\"HLoYTCUP0fc\")"
   ]
  },
  {
   "cell_type": "markdown",
   "metadata": {
    "deletable": false,
    "editable": false
   },
   "source": [
    "**Question 4.** From the `burritos` table, some of the restaurant locations have multiple reviews. Winifred thinks California burritos are the best type of burritos, and wants to see the average overall rating for California burritos at each location. Create a table that has two columns: the name of the restaurant and the average overall rating of California burritos at each location.\n",
    "\n",
    "*Tip: Revisit the burritos table to see how California burritos are represented.*\n",
    "\n",
    "*Note: you can break up the solution into multiple lines, as long as you assign the final output table to `california_burritos`! For reference however, the staff solution only used one line.*\n",
    "\n",
    "<!--\n",
    "BEGIN QUESTION\n",
    "name: q1_4\n",
    "-->"
   ]
  },
  {
   "cell_type": "code",
   "execution_count": 9,
   "metadata": {},
   "outputs": [
    {
     "data": {
      "text/html": [
       "<table border=\"1\" class=\"dataframe\">\n",
       "    <thead>\n",
       "        <tr>\n",
       "            <th>Name</th> <th>Overall mean</th>\n",
       "        </tr>\n",
       "    </thead>\n",
       "    <tbody>\n",
       "        <tr>\n",
       "            <td>Burros and Fries          </td> <td>3.575       </td>\n",
       "        </tr>\n",
       "        <tr>\n",
       "            <td>Caliente Mexican Food     </td> <td>3.25        </td>\n",
       "        </tr>\n",
       "        <tr>\n",
       "            <td>California Burrito Company</td> <td>3.2         </td>\n",
       "        </tr>\n",
       "        <tr>\n",
       "            <td>Cancun Mexican & Seafood  </td> <td>4.1         </td>\n",
       "        </tr>\n",
       "        <tr>\n",
       "            <td>Cotixan                   </td> <td>3.6         </td>\n",
       "        </tr>\n",
       "        <tr>\n",
       "            <td>Don Carlos Taco Shop      </td> <td>3.3         </td>\n",
       "        </tr>\n",
       "        <tr>\n",
       "            <td>El Dorado Mexican Food    </td> <td>4.025       </td>\n",
       "        </tr>\n",
       "        <tr>\n",
       "            <td>El Indio                  </td> <td>4           </td>\n",
       "        </tr>\n",
       "        <tr>\n",
       "            <td>El Pueblo Mexican Food    </td> <td>4.3         </td>\n",
       "        </tr>\n",
       "        <tr>\n",
       "            <td>El Zarape                 </td> <td>3.54815     </td>\n",
       "        </tr>\n",
       "    </tbody>\n",
       "</table>\n",
       "<p>... (36 rows omitted)</p>"
      ],
      "text/plain": [
       "Name                       | Overall mean\n",
       "Burros and Fries           | 3.575\n",
       "Caliente Mexican Food      | 3.25\n",
       "California Burrito Company | 3.2\n",
       "Cancun Mexican & Seafood   | 4.1\n",
       "Cotixan                    | 3.6\n",
       "Don Carlos Taco Shop       | 3.3\n",
       "El Dorado Mexican Food     | 4.025\n",
       "El Indio                   | 4\n",
       "El Pueblo Mexican Food     | 4.3\n",
       "El Zarape                  | 3.54815\n",
       "... (36 rows omitted)"
      ]
     },
     "execution_count": 9,
     "metadata": {},
     "output_type": "execute_result"
    }
   ],
   "source": [
    "california_burritos = burritos.where(\"Menu_Item\",are.equal_to(\"California\")).select(\"Name\",\"Overall\").group(\"Name\",np.mean)\n",
    "california_burritos"
   ]
  },
  {
   "cell_type": "code",
   "execution_count": 10,
   "metadata": {
    "deletable": false,
    "editable": false
   },
   "outputs": [
    {
     "name": "stdout",
     "output_type": "stream",
     "text": [
      "~~~~~~~~~~~~~~~~~~~~~~~~~~~~~~~~~~~~~~~~~~~~~~~~~~~~~~~~~~~~~~~~~~~~~\n",
      "Running tests\n",
      "\n",
      "---------------------------------------------------------------------\n",
      "Test summary\n",
      "    Passed: 2\n",
      "    Failed: 0\n",
      "[ooooooooook] 100.0% passed\n",
      "\n"
     ]
    }
   ],
   "source": [
    "ok.grade(\"q1_4\");"
   ]
  },
  {
   "cell_type": "markdown",
   "metadata": {
    "deletable": false,
    "editable": false
   },
   "source": [
    "**Question 5.** Given this new table `california_burritos`, Winifred can figure out the name of the restaurant with the highest overall average rating! Assign `best_restaurant` to a line of code that evaluates to a string that corresponds to the name of the restaurant with the highest overall average rating. \n",
    "\n",
    "<!--\n",
    "BEGIN QUESTION\n",
    "name: q1_5\n",
    "-->"
   ]
  },
  {
   "cell_type": "code",
   "execution_count": 16,
   "metadata": {},
   "outputs": [
    {
     "data": {
      "text/plain": [
       "'Mikes Taco Club'"
      ]
     },
     "execution_count": 16,
     "metadata": {},
     "output_type": "execute_result"
    }
   ],
   "source": [
    "best_restaurant = str(california_burritos.sort(\"Overall mean\",descending=True).column(\"Name\").item(0))\n",
    "best_restaurant"
   ]
  },
  {
   "cell_type": "code",
   "execution_count": 17,
   "metadata": {
    "deletable": false,
    "editable": false
   },
   "outputs": [
    {
     "name": "stdout",
     "output_type": "stream",
     "text": [
      "~~~~~~~~~~~~~~~~~~~~~~~~~~~~~~~~~~~~~~~~~~~~~~~~~~~~~~~~~~~~~~~~~~~~~\n",
      "Running tests\n",
      "\n",
      "---------------------------------------------------------------------\n",
      "Test summary\n",
      "    Passed: 1\n",
      "    Failed: 0\n",
      "[ooooooooook] 100.0% passed\n",
      "\n"
     ]
    }
   ],
   "source": [
    "ok.grade(\"q1_5\");"
   ]
  },
  {
   "cell_type": "markdown",
   "metadata": {
    "deletable": false,
    "editable": false
   },
   "source": [
    "**Question 6.** Using the `burritos` table, assign `menu_average` to a table that has three columns that uniquely pairs the name of the restaurant, the menu item featured in the review, and the average Overall score for that menu item at that restaurant.\n",
    "\n",
    "*Hint: Use .group, and remember that you can group by multiple columns. Here's an example from the [textbook](https://www.inferentialthinking.com/chapters/08/3/Cross-Classifying_by_More_than_One_Variable.html)*.\n",
    "\n",
    "<!--\n",
    "BEGIN QUESTION\n",
    "name: q1_6\n",
    "-->"
   ]
  },
  {
   "cell_type": "code",
   "execution_count": 18,
   "metadata": {},
   "outputs": [
    {
     "data": {
      "text/html": [
       "<table border=\"1\" class=\"dataframe\">\n",
       "    <thead>\n",
       "        <tr>\n",
       "            <th>Name</th> <th>Menu_Item</th> <th>Overall mean</th>\n",
       "        </tr>\n",
       "    </thead>\n",
       "    <tbody>\n",
       "        <tr>\n",
       "            <td>Albertacos                </td> <td>California       </td> <td>3.45        </td>\n",
       "        </tr>\n",
       "        <tr>\n",
       "            <td>Albertacos                </td> <td>Carne asada      </td> <td>3.45        </td>\n",
       "        </tr>\n",
       "        <tr>\n",
       "            <td>Burrito Factory           </td> <td>Steak everything </td> <td>3.5         </td>\n",
       "        </tr>\n",
       "        <tr>\n",
       "            <td>Burros and Fries          </td> <td>California       </td> <td>3.575       </td>\n",
       "        </tr>\n",
       "        <tr>\n",
       "            <td>Burros and Fries          </td> <td>Carne asada      </td> <td>3.575       </td>\n",
       "        </tr>\n",
       "        <tr>\n",
       "            <td>Burros and Fries          </td> <td>Shrimp california</td> <td>3.575       </td>\n",
       "        </tr>\n",
       "        <tr>\n",
       "            <td>Caliente Mexican Food     </td> <td>California       </td> <td>3.25        </td>\n",
       "        </tr>\n",
       "        <tr>\n",
       "            <td>Caliente Mexican Food     </td> <td>carne asada      </td> <td>3.25        </td>\n",
       "        </tr>\n",
       "        <tr>\n",
       "            <td>Caliente Mexican Food     </td> <td>fried fish       </td> <td>3.25        </td>\n",
       "        </tr>\n",
       "        <tr>\n",
       "            <td>California Burrito Company</td> <td>California       </td> <td>3.2         </td>\n",
       "        </tr>\n",
       "    </tbody>\n",
       "</table>\n",
       "<p>... (196 rows omitted)</p>"
      ],
      "text/plain": [
       "Name                       | Menu_Item         | Overall mean\n",
       "Albertacos                 | California        | 3.45\n",
       "Albertacos                 | Carne asada       | 3.45\n",
       "Burrito Factory            | Steak everything  | 3.5\n",
       "Burros and Fries           | California        | 3.575\n",
       "Burros and Fries           | Carne asada       | 3.575\n",
       "Burros and Fries           | Shrimp california | 3.575\n",
       "Caliente Mexican Food      | California        | 3.25\n",
       "Caliente Mexican Food      | carne asada       | 3.25\n",
       "Caliente Mexican Food      | fried fish        | 3.25\n",
       "California Burrito Company | California        | 3.2\n",
       "... (196 rows omitted)"
      ]
     },
     "execution_count": 18,
     "metadata": {},
     "output_type": "execute_result"
    }
   ],
   "source": [
    "menu_average = burritos.select(\"Name\",\"Menu_Item\",\"Overall\").group([\"Name\",\"Menu_Item\"],np.mean)\n",
    "menu_average"
   ]
  },
  {
   "cell_type": "code",
   "execution_count": 19,
   "metadata": {
    "deletable": false,
    "editable": false
   },
   "outputs": [
    {
     "name": "stdout",
     "output_type": "stream",
     "text": [
      "~~~~~~~~~~~~~~~~~~~~~~~~~~~~~~~~~~~~~~~~~~~~~~~~~~~~~~~~~~~~~~~~~~~~~\n",
      "Running tests\n",
      "\n",
      "---------------------------------------------------------------------\n",
      "Test summary\n",
      "    Passed: 1\n",
      "    Failed: 0\n",
      "[ooooooooook] 100.0% passed\n",
      "\n"
     ]
    }
   ],
   "source": [
    "ok.grade(\"q1_6\");"
   ]
  },
  {
   "cell_type": "markdown",
   "metadata": {
    "deletable": false,
    "editable": false
   },
   "source": [
    "**Question 7.** Tam thinks that burritos in San Diego are cheaper (and taste better) than the burritos in Berkeley. Plot a histogram that visualizes that distribution of the costs of the burritos from San Diego in the `burritos` table. Also use the provided `bins` variable when making your histogram, so that visually the histogram is more informative.\n",
    "\n",
    "<!--\n",
    "BEGIN QUESTION\n",
    "name: q1_7\n",
    "manual: True\n",
    "-->\n",
    "<!-- EXPORT TO PDF -->"
   ]
  },
  {
   "cell_type": "code",
   "execution_count": 20,
   "metadata": {
    "export_pdf": true
   },
   "outputs": [
    {
     "data": {
      "image/png": "[encoded data removed]",
      "text/plain": [
       "<Figure size 432x288 with 1 Axes>"
      ]
     },
     "metadata": {},
     "output_type": "display_data"
    }
   ],
   "source": [
    "bins = np.arange(0, 15, 1)\n",
    "# Please also use the provided bins\n",
    "burritos.hist(\"Cost\",unit=\"dollars\",bins = np.arange(0, 15, 1))"
   ]
  },
  {
   "cell_type": "markdown",
   "metadata": {},
   "source": [
    "## 2. Faculty salaries\n"
   ]
  },
  {
   "cell_type": "markdown",
   "metadata": {},
   "source": [
    "This exercise is designed to give you practice using the Table methods `pivot` and `group`. [Here](http://data8.org/sp20/python-reference.html) is a link to the Python reference page in case you need a quick refresher.\n",
    "\n",
    "Run the cell below to view a demo on how you can use pivot on a table. (Thank you to past staff Divyesh Chotai)"
   ]
  },
  {
   "cell_type": "code",
   "execution_count": 21,
   "metadata": {},
   "outputs": [
    {
     "data": {
      "image/jpeg": "[encoded data removed]",
      "text/html": [
       "\n",
       "        <iframe\n",
       "            width=\"400\"\n",
       "            height=\"300\"\n",
       "            src=\"https://www.youtube.com/embed/4WzXo8eKLAg\"\n",
       "            frameborder=\"0\"\n",
       "            allowfullscreen\n",
       "        ></iframe>\n",
       "        "
      ],
      "text/plain": [
       "<IPython.lib.display.YouTubeVideo at 0x7f34e5218c50>"
      ]
     },
     "execution_count": 21,
     "metadata": {},
     "output_type": "execute_result"
    }
   ],
   "source": [
    "from IPython.display import YouTubeVideo\n",
    "YouTubeVideo(\"4WzXo8eKLAg\")"
   ]
  },
  {
   "cell_type": "markdown",
   "metadata": {},
   "source": [
    "In the next cell, we load a dataset created by the [Daily Cal](http://projects.dailycal.org/paychecker/) which contains Berkeley faculty, their departments, their positions, and their gross salaries in 2015."
   ]
  },
  {
   "cell_type": "code",
   "execution_count": 22,
   "metadata": {},
   "outputs": [
    {
     "data": {
      "text/html": [
       "<table border=\"1\" class=\"dataframe\">\n",
       "    <thead>\n",
       "        <tr>\n",
       "            <th>name</th> <th>department</th> <th>position</th> <th>gross_salary</th>\n",
       "        </tr>\n",
       "    </thead>\n",
       "    <tbody>\n",
       "        <tr>\n",
       "            <td>CYNTHIA ABAN   </td> <td>South & Southeast Asian Studies</td> <td>lecturer           </td> <td>64450       </td>\n",
       "        </tr>\n",
       "        <tr>\n",
       "            <td>PIETER ABBEEL  </td> <td>Computer Science               </td> <td>associate professor</td> <td>184998      </td>\n",
       "        </tr>\n",
       "        <tr>\n",
       "            <td>SALLY ABEL     </td> <td>Law                            </td> <td>lecturer           </td> <td>3466        </td>\n",
       "        </tr>\n",
       "        <tr>\n",
       "            <td>ELIZABETH ABEL </td> <td>English                        </td> <td>professor          </td> <td>138775      </td>\n",
       "        </tr>\n",
       "        <tr>\n",
       "            <td>DOR ABRAHAMSON </td> <td>Education                      </td> <td>associate professor</td> <td>100300      </td>\n",
       "        </tr>\n",
       "        <tr>\n",
       "            <td>KATHRYN ABRAMS </td> <td>Law                            </td> <td>professor          </td> <td>319693      </td>\n",
       "        </tr>\n",
       "        <tr>\n",
       "            <td>BARBARA ABRAMS </td> <td>Public Health                  </td> <td>professor          </td> <td>191162      </td>\n",
       "        </tr>\n",
       "        <tr>\n",
       "            <td>SARAH ACCOMAZZO</td> <td>Social Welfare                 </td> <td>lecturer           </td> <td>14779       </td>\n",
       "        </tr>\n",
       "        <tr>\n",
       "            <td>CHARISMA ACEY  </td> <td>City and Regional Planning     </td> <td>assistant professor</td> <td>101567      </td>\n",
       "        </tr>\n",
       "        <tr>\n",
       "            <td>DAVID ACKERLY  </td> <td>Biology                        </td> <td>professor          </td> <td>182288      </td>\n",
       "        </tr>\n",
       "    </tbody>\n",
       "</table>\n",
       "<p>... (2049 rows omitted)</p>"
      ],
      "text/plain": [
       "name            | department                      | position            | gross_salary\n",
       "CYNTHIA ABAN    | South & Southeast Asian Studies | lecturer            | 64450\n",
       "PIETER ABBEEL   | Computer Science                | associate professor | 184998\n",
       "SALLY ABEL      | Law                             | lecturer            | 3466\n",
       "ELIZABETH ABEL  | English                         | professor           | 138775\n",
       "DOR ABRAHAMSON  | Education                       | associate professor | 100300\n",
       "KATHRYN ABRAMS  | Law                             | professor           | 319693\n",
       "BARBARA ABRAMS  | Public Health                   | professor           | 191162\n",
       "SARAH ACCOMAZZO | Social Welfare                  | lecturer            | 14779\n",
       "CHARISMA ACEY   | City and Regional Planning      | assistant professor | 101567\n",
       "DAVID ACKERLY   | Biology                         | professor           | 182288\n",
       "... (2049 rows omitted)"
      ]
     },
     "execution_count": 22,
     "metadata": {},
     "output_type": "execute_result"
    }
   ],
   "source": [
    "raw_profs = Table.read_table(\"faculty.csv\").where(\"year\", are.equal_to(2015)).drop(\"year\", \"title\")\n",
    "profs = raw_profs.relabeled(\"title_category\", \"position\")\n",
    "profs"
   ]
  },
  {
   "cell_type": "markdown",
   "metadata": {},
   "source": [
    "We want to use this table to generate arrays with the names of each professor in each department."
   ]
  },
  {
   "cell_type": "markdown",
   "metadata": {
    "deletable": false,
    "editable": false
   },
   "source": [
    "**Question 1.** Set `prof_names` to a table with two columns. The first column should be called `department` and have the name of every department once, and the second column should be called `faculty` with each row in that second column containing an *array* of the names of all faculty members in that department. \n",
    "\n",
    "*Hint:* Think about how ```group``` works: it collects values into an array and then applies a function to that array. We have defined two functions below for you, and you will need to use one of them in your call to ```group```.\n",
    "\n",
    "<!--\n",
    "BEGIN QUESTION\n",
    "name: q2_1\n",
    "-->"
   ]
  },
  {
   "cell_type": "code",
   "execution_count": 23,
   "metadata": {},
   "outputs": [
    {
     "data": {
      "text/html": [
       "<table border=\"1\" class=\"dataframe\">\n",
       "    <thead>\n",
       "        <tr>\n",
       "            <th>department</th> <th>faculty</th>\n",
       "        </tr>\n",
       "    </thead>\n",
       "    <tbody>\n",
       "        <tr>\n",
       "            <td>African American Studies                      </td> <td>['AYA DE LEON' 'CHIYUMA ELLIOTT' 'NIKKI JONES' 'DAVID KY ...</td>\n",
       "        </tr>\n",
       "        <tr>\n",
       "            <td>Agricultural and Resource Economics and Policy</td> <td>['MAXIMILIAN AUFFHAMMER' 'CHARLES GIBBONS' 'JEFFREY PERL ...</td>\n",
       "        </tr>\n",
       "        <tr>\n",
       "            <td>Anthroplogy                                   </td> <td>['SABRINA AGARWAL' 'STANLEY BRANDES' 'CHARLES BRIGGS'\n",
       " ' ...</td>\n",
       "        </tr>\n",
       "        <tr>\n",
       "            <td>Architecture                                  </td> <td>['MARK ANDERSON' 'JACOB ATHERTON' 'WILLIAM ATWOOD' 'R.GA ...</td>\n",
       "        </tr>\n",
       "        <tr>\n",
       "            <td>Art History                                   </td> <td>['DILIANA ANGELOVA' 'PATRICIA BERGER' 'JULIA BRYAN-WILSO ...</td>\n",
       "        </tr>\n",
       "        <tr>\n",
       "            <td>Art Practice                                  </td> <td>['ALLAN DESOUZA' 'AIDA GAMEZ' 'RANDY HUSSONG' 'JENNIFER  ...</td>\n",
       "        </tr>\n",
       "        <tr>\n",
       "            <td>Astronomy                                     </td> <td>['GIBOR BASRI' 'STEVEN BECKWITH' 'LEO BLITZ' 'EUGENE CHI ...</td>\n",
       "        </tr>\n",
       "        <tr>\n",
       "            <td>Bioengineering                                </td> <td>['ADAM ARKIN' 'IRINA CONBOY' 'STEVEN CONOLLY' 'JOHN DUEB ...</td>\n",
       "        </tr>\n",
       "        <tr>\n",
       "            <td>Biology                                       </td> <td>['DAVID ACKERLY' 'HILLEL ADESNIK' 'KELLY AGNEW' 'DORIS B ...</td>\n",
       "        </tr>\n",
       "        <tr>\n",
       "            <td>Buddhist Studies                              </td> <td>['JANN RONIS']                                              </td>\n",
       "        </tr>\n",
       "    </tbody>\n",
       "</table>\n",
       "<p>... (61 rows omitted)</p>"
      ],
      "text/plain": [
       "department                                     | faculty\n",
       "African American Studies                       | ['AYA DE LEON' 'CHIYUMA ELLIOTT' 'NIKKI JONES' 'DAVID KY ...\n",
       "Agricultural and Resource Economics and Policy | ['MAXIMILIAN AUFFHAMMER' 'CHARLES GIBBONS' 'JEFFREY PERL ...\n",
       "Anthroplogy                                    | ['SABRINA AGARWAL' 'STANLEY BRANDES' 'CHARLES BRIGGS'\n",
       " ' ...\n",
       "Architecture                                   | ['MARK ANDERSON' 'JACOB ATHERTON' 'WILLIAM ATWOOD' 'R.GA ...\n",
       "Art History                                    | ['DILIANA ANGELOVA' 'PATRICIA BERGER' 'JULIA BRYAN-WILSO ...\n",
       "Art Practice                                   | ['ALLAN DESOUZA' 'AIDA GAMEZ' 'RANDY HUSSONG' 'JENNIFER  ...\n",
       "Astronomy                                      | ['GIBOR BASRI' 'STEVEN BECKWITH' 'LEO BLITZ' 'EUGENE CHI ...\n",
       "Bioengineering                                 | ['ADAM ARKIN' 'IRINA CONBOY' 'STEVEN CONOLLY' 'JOHN DUEB ...\n",
       "Biology                                        | ['DAVID ACKERLY' 'HILLEL ADESNIK' 'KELLY AGNEW' 'DORIS B ...\n",
       "Buddhist Studies                               | ['JANN RONIS']\n",
       "... (61 rows omitted)"
      ]
     },
     "execution_count": 23,
     "metadata": {},
     "output_type": "execute_result"
    }
   ],
   "source": [
    "# Pick one of the two functions defined below in your call to group.\n",
    "def identity(array):\n",
    "    '''Returns the array that is passed through'''\n",
    "    return array \n",
    "\n",
    "def first(array):\n",
    "    '''Returns the first item'''\n",
    "    return array.item(0)\n",
    "\n",
    "# Make a call to group using one of the functions above when you define prof_names\n",
    "prof_names = profs.drop(\"position\",\"gross_salary\").group(\"department\",identity).relabeled(\"name identity\",\"faculty\")\n",
    "prof_names"
   ]
  },
  {
   "cell_type": "code",
   "execution_count": 24,
   "metadata": {
    "deletable": false,
    "editable": false
   },
   "outputs": [
    {
     "name": "stdout",
     "output_type": "stream",
     "text": [
      "~~~~~~~~~~~~~~~~~~~~~~~~~~~~~~~~~~~~~~~~~~~~~~~~~~~~~~~~~~~~~~~~~~~~~\n",
      "Running tests\n",
      "\n",
      "---------------------------------------------------------------------\n",
      "Test summary\n",
      "    Passed: 4\n",
      "    Failed: 0\n",
      "[ooooooooook] 100.0% passed\n",
      "\n"
     ]
    }
   ],
   "source": [
    "ok.grade(\"q2_1\");"
   ]
  },
  {
   "cell_type": "markdown",
   "metadata": {},
   "source": [
    "#### Understanding the code you just wrote in 2.1 is important for moving forward with the class! If you made a lucky guess, take some time to look at the code, step by step."
   ]
  },
  {
   "cell_type": "markdown",
   "metadata": {
    "deletable": false,
    "editable": false
   },
   "source": [
    "**Question 2.** At the moment, the ```name``` column of the `profs` table is sorted by last name. Would the arrays you generated in the `faculty` column of the previous part be the same if we had sorted by first name instead before generating them? Two arrays are the **same** if they contain the same number of elements and the elements located at corresponding indexes in the two arrays are identical. An example of arrays that are NOT the same: `array([1,2]) != array([2,1])`. Explain your answer.  \n",
    "\n",
    "<!--\n",
    "BEGIN QUESTION\n",
    "name: q2_2\n",
    "manual: true\n",
    "-->\n",
    "<!-- EXPORT TO PDF -->"
   ]
  },
  {
   "cell_type": "markdown",
   "metadata": {
    "deletable": false,
    "export_pdf": true,
    "manual_problem_id": "faculty_1"
   },
   "source": [
    "No, it would not be the same. If we change the order of the names by first name, the array will be changed too. Python will read it in inverse sequence. "
   ]
  },
  {
   "cell_type": "markdown",
   "metadata": {
    "deletable": false,
    "editable": false
   },
   "source": [
    "**Question 3.** Set `department_ranges` to a table containing departments as the rows, and the position as the columns. The values in the rows should correspond to a salary range, where range is defined as the **difference between the highest salary and the lowest salary in the department for that position**. \n",
    "\n",
    "*Hint:* First you'll need to define a new function `salary_range` which takes in an array of salaries and returns the range of salaries in that array. \n",
    "\n",
    "<!--\n",
    "BEGIN QUESTION\n",
    "name: q2_3\n",
    "manual: false\n",
    "-->"
   ]
  },
  {
   "cell_type": "code",
   "execution_count": 25,
   "metadata": {},
   "outputs": [
    {
     "data": {
      "text/html": [
       "<table border=\"1\" class=\"dataframe\">\n",
       "    <thead>\n",
       "        <tr>\n",
       "            <th>department</th> <th>assistant professor</th> <th>associate professor</th> <th>lecturer</th> <th>professor</th>\n",
       "        </tr>\n",
       "    </thead>\n",
       "    <tbody>\n",
       "        <tr>\n",
       "            <td>African American Studies                      </td> <td>128828             </td> <td>48814              </td> <td>83309   </td> <td>0        </td>\n",
       "        </tr>\n",
       "        <tr>\n",
       "            <td>Agricultural and Resource Economics and Policy</td> <td>0                  </td> <td>0                  </td> <td>0       </td> <td>29650    </td>\n",
       "        </tr>\n",
       "        <tr>\n",
       "            <td>Anthroplogy                                   </td> <td>11193              </td> <td>103271             </td> <td>11131   </td> <td>166527   </td>\n",
       "        </tr>\n",
       "        <tr>\n",
       "            <td>Architecture                                  </td> <td>47675              </td> <td>103204             </td> <td>72977   </td> <td>167892   </td>\n",
       "        </tr>\n",
       "        <tr>\n",
       "            <td>Art History                                   </td> <td>57288              </td> <td>27439              </td> <td>31861   </td> <td>100894   </td>\n",
       "        </tr>\n",
       "        <tr>\n",
       "            <td>Art Practice                                  </td> <td>0                  </td> <td>26632              </td> <td>93923   </td> <td>0        </td>\n",
       "        </tr>\n",
       "        <tr>\n",
       "            <td>Astronomy                                     </td> <td>0                  </td> <td>0                  </td> <td>0       </td> <td>138346   </td>\n",
       "        </tr>\n",
       "        <tr>\n",
       "            <td>Bioengineering                                </td> <td>5513               </td> <td>2794               </td> <td>69008   </td> <td>134739   </td>\n",
       "        </tr>\n",
       "        <tr>\n",
       "            <td>Biology                                       </td> <td>209667             </td> <td>113341             </td> <td>137087  </td> <td>288554   </td>\n",
       "        </tr>\n",
       "        <tr>\n",
       "            <td>Buddhist Studies                              </td> <td>0                  </td> <td>0                  </td> <td>0       </td> <td>0        </td>\n",
       "        </tr>\n",
       "    </tbody>\n",
       "</table>\n",
       "<p>... (61 rows omitted)</p>"
      ],
      "text/plain": [
       "department                                     | assistant professor | associate professor | lecturer | professor\n",
       "African American Studies                       | 128828              | 48814               | 83309    | 0\n",
       "Agricultural and Resource Economics and Policy | 0                   | 0                   | 0        | 29650\n",
       "Anthroplogy                                    | 11193               | 103271              | 11131    | 166527\n",
       "Architecture                                   | 47675               | 103204              | 72977    | 167892\n",
       "Art History                                    | 57288               | 27439               | 31861    | 100894\n",
       "Art Practice                                   | 0                   | 26632               | 93923    | 0\n",
       "Astronomy                                      | 0                   | 0                   | 0        | 138346\n",
       "Bioengineering                                 | 5513                | 2794                | 69008    | 134739\n",
       "Biology                                        | 209667              | 113341              | 137087   | 288554\n",
       "Buddhist Studies                               | 0                   | 0                   | 0        | 0\n",
       "... (61 rows omitted)"
      ]
     },
     "execution_count": 25,
     "metadata": {},
     "output_type": "execute_result"
    }
   ],
   "source": [
    "# Define salary_range first\n",
    "def salary_range(salaries):\n",
    "    return abs(max(salaries)- min(salaries))\n",
    "\n",
    "department_ranges = profs.pivot(\"position\",\"department\",values=\"gross_salary\", collect = salary_range)\n",
    "department_ranges"
   ]
  },
  {
   "cell_type": "code",
   "execution_count": 26,
   "metadata": {
    "deletable": false,
    "editable": false
   },
   "outputs": [
    {
     "name": "stdout",
     "output_type": "stream",
     "text": [
      "~~~~~~~~~~~~~~~~~~~~~~~~~~~~~~~~~~~~~~~~~~~~~~~~~~~~~~~~~~~~~~~~~~~~~\n",
      "Running tests\n",
      "\n",
      "---------------------------------------------------------------------\n",
      "Test summary\n",
      "    Passed: 3\n",
      "    Failed: 0\n",
      "[ooooooooook] 100.0% passed\n",
      "\n"
     ]
    }
   ],
   "source": [
    "ok.grade(\"q2_3\");"
   ]
  },
  {
   "cell_type": "markdown",
   "metadata": {
    "deletable": false,
    "editable": false
   },
   "source": [
    "**Question 4.** Give an explanation as to why some of the row values are `0` in the `department_ranges` table from the previous question.\n",
    "\n",
    "<!--\n",
    "BEGIN QUESTION\n",
    "name: q2_3\n",
    "manual: True\n",
    "-->\n",
    "<!-- EXPORT TO PDF -->"
   ]
  },
  {
   "cell_type": "markdown",
   "metadata": {
    "export_pdf": true
   },
   "source": [
    "Because those positions of departments have the same salaries. There's no difference\n"
   ]
  },
  {
   "cell_type": "markdown",
   "metadata": {},
   "source": [
    "## 3. Submission\n"
   ]
  },
  {
   "cell_type": "markdown",
   "metadata": {
    "collapsed": true
   },
   "source": [
    "Once you're finished, select \"Save and Checkpoint\" in the File menu and then execute the `submit` cell below. The result will contain a link that you can use to check that your assignment has been submitted successfully. If you submit more than once before the deadline, we will only grade your final submission. If you mistakenly submit the wrong one, you can head to [okpy.org](https://okpy.org/) and flag the correct version. To do so, go to the website, click on this assignment, and find the version you would like to have graded. There should be an option to flag that submission for grading!"
   ]
  },
  {
   "cell_type": "code",
   "execution_count": 27,
   "metadata": {},
   "outputs": [
    {
     "data": {
      "application/javascript": [
       "IPython.notebook.save_checkpoint();"
      ],
      "text/plain": [
       "<IPython.core.display.Javascript object>"
      ]
     },
     "metadata": {},
     "output_type": "display_data"
    },
    {
     "data": {
      "application/javascript": [
       "IPython.notebook.save_notebook();"
      ],
      "text/plain": [
       "<IPython.core.display.Javascript object>"
      ]
     },
     "metadata": {},
     "output_type": "display_data"
    },
    {
     "name": "stdout",
     "output_type": "stream",
     "text": [
      "Saving notebook... Saved 'hw04.ipynb'.\n",
      "Submit... 100% complete\n",
      "Submission successful for user: whtwht3061@berkeley.edu\n",
      "URL: https://okpy.org/cal/data8/sp20/hw04/submissions/K84YvJ\n",
      "\n"
     ]
    }
   ],
   "source": [
    "_ = ok.submit()"
   ]
  },
  {
   "cell_type": "code",
   "execution_count": 28,
   "metadata": {},
   "outputs": [
    {
     "name": "stdout",
     "output_type": "stream",
     "text": [
      "Running all tests...\n",
      "~~~~~~~~~~~~~~~~~~~~~~~~~~~~~~~~~~~~~~~~~~~~~~~~~~~~~~~~~~~~~~~~~~~~~\n",
      "Running tests\n",
      "\n",
      "---------------------------------------------------------------------\n",
      "Test summary\n",
      "    Passed: 1\n",
      "    Failed: 0\n",
      "[ooooooooook] 100.0% passed\n",
      "\n",
      "~~~~~~~~~~~~~~~~~~~~~~~~~~~~~~~~~~~~~~~~~~~~~~~~~~~~~~~~~~~~~~~~~~~~~\n",
      "Running tests\n",
      "\n",
      "---------------------------------------------------------------------\n",
      "Test summary\n",
      "    Passed: 2\n",
      "    Failed: 0\n",
      "[ooooooooook] 100.0% passed\n",
      "\n",
      "~~~~~~~~~~~~~~~~~~~~~~~~~~~~~~~~~~~~~~~~~~~~~~~~~~~~~~~~~~~~~~~~~~~~~\n",
      "Running tests\n",
      "\n",
      "---------------------------------------------------------------------\n",
      "Test summary\n",
      "    Passed: 1\n",
      "    Failed: 0\n",
      "[ooooooooook] 100.0% passed\n",
      "\n",
      "~~~~~~~~~~~~~~~~~~~~~~~~~~~~~~~~~~~~~~~~~~~~~~~~~~~~~~~~~~~~~~~~~~~~~\n",
      "Running tests\n",
      "\n",
      "---------------------------------------------------------------------\n",
      "Test summary\n",
      "    Passed: 2\n",
      "    Failed: 0\n",
      "[ooooooooook] 100.0% passed\n",
      "\n",
      "~~~~~~~~~~~~~~~~~~~~~~~~~~~~~~~~~~~~~~~~~~~~~~~~~~~~~~~~~~~~~~~~~~~~~\n",
      "Running tests\n",
      "\n",
      "---------------------------------------------------------------------\n",
      "Test summary\n",
      "    Passed: 3\n",
      "    Failed: 0\n",
      "[ooooooooook] 100.0% passed\n",
      "\n",
      "~~~~~~~~~~~~~~~~~~~~~~~~~~~~~~~~~~~~~~~~~~~~~~~~~~~~~~~~~~~~~~~~~~~~~\n",
      "Running tests\n",
      "\n",
      "---------------------------------------------------------------------\n",
      "Test summary\n",
      "    Passed: 4\n",
      "    Failed: 0\n",
      "[ooooooooook] 100.0% passed\n",
      "\n",
      "Finished running all tests.\n"
     ]
    }
   ],
   "source": [
    "# For your convenience, you can run this cell to run all the tests at once!\n",
    "import os\n",
    "print(\"Running all tests...\")\n",
    "_ = [ok.grade(q[:-3]) for q in os.listdir(\"tests\") if q.startswith('q') and len(q) <= 10]\n",
    "print(\"Finished running all tests.\")"
   ]
  },
  {
   "cell_type": "code",
   "execution_count": null,
   "metadata": {},
   "outputs": [],
   "source": []
  },
  {
   "cell_type": "code",
   "execution_count": null,
   "metadata": {},
   "outputs": [],
   "source": []
  }
 ],
 "metadata": {
  "kernelspec": {
   "display_name": "Python 3",
   "language": "python",
   "name": "python3"
  },
  "language_info": {
   "codemirror_mode": {
    "name": "ipython",
    "version": 3
   },
   "file_extension": ".py",
   "mimetype": "text/x-python",
   "name": "python",
   "nbconvert_exporter": "python",
   "pygments_lexer": "ipython3",
   "version": "3.6.9"
  }
 },
 "nbformat": 4,
 "nbformat_minor": 1
}
